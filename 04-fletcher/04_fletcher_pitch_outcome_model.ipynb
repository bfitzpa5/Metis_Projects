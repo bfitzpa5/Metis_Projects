{
 "cells": [
  {
   "cell_type": "code",
   "execution_count": 7,
   "metadata": {},
   "outputs": [],
   "source": [
    "import os\n",
    "import pandas as pd\n",
    "import numpy as np\n",
    "from sklearn.feature_extraction.text import TfidfVectorizer\n",
    "from sklearn.naive_bayes import MultinomialNB"
   ]
  },
  {
   "cell_type": "code",
   "execution_count": 4,
   "metadata": {},
   "outputs": [],
   "source": [
    "fname = os.path.join(\n",
    "    'Data',\n",
    "    'kickstarter_data.json'\n",
    ")\n",
    "df = pd.read_json(fname, 'records')"
   ]
  },
  {
   "cell_type": "code",
   "execution_count": 35,
   "metadata": {},
   "outputs": [
    {
     "name": "stdout",
     "output_type": "stream",
     "text": [
      "(1059,)\n"
     ]
    },
    {
     "data": {
      "text/plain": [
       "array([''], dtype=object)"
      ]
     },
     "execution_count": 35,
     "metadata": {},
     "output_type": "execute_result"
    }
   ],
   "source": [
    "\"\"\"\n",
    "A lot of these are blank\n",
    "\"\"\"\n",
    "pat = r'.+\\npledged of .+ goal\\n[,\\d]+\\nbackers?'\n",
    "print(df.loc[~df.goal_and_pledged_backers.str.match(pat), 'goal_and_pledged_backers'].shape)\n",
    "df.loc[~df.goal_and_pledged_backers.str.match(pat), 'goal_and_pledged_backers'].unique()"
   ]
  },
  {
   "cell_type": "code",
   "execution_count": 42,
   "metadata": {},
   "outputs": [],
   "source": [
    "\"\"\"\n",
    "Remove pitches without any goal, pledged and backer data\n",
    "\"\"\"\n",
    "mask = df.goal_and_pledged_backers != ''\n",
    "df = (df.loc[mask, :]\n",
    "    .reset_index()\n",
    ")"
   ]
  },
  {
   "cell_type": "code",
   "execution_count": 50,
   "metadata": {},
   "outputs": [],
   "source": [
    "pat = r'(?P<pledged>.+)\\npledged of (?P<goal>.+) goal\\n[,\\d]+\\nbackers?'\n",
    "df.loc[:, ['pledged', 'goal']] = df.goal_and_pledged_backers.str.extract(pat)"
   ]
  },
  {
   "cell_type": "code",
   "execution_count": 66,
   "metadata": {},
   "outputs": [],
   "source": [
    "\"\"\"\n",
    "Convert pledged and goals into respective currencies and amount\n",
    "Output to csv to check in excel\n",
    "\"\"\"\n",
    "df = df.assign(\n",
    "    pledged_currency=lambda x: x.pledged.str.extract('([^\\d]+)'),\n",
    "    pledged_amount=lambda x: x.pledged.map(lambda x: ''.join([i for i in x if i.isdigit()])).astype(int),\n",
    "    goal_currency=lambda x: x.goal.str.extract('([^\\d]+)'),\n",
    "    goal_amount=lambda x: x.goal.map(lambda x: ''.join([i for i in x if i.isdigit()])).astype(int),\n",
    ")\n",
    "columns = [\n",
    "    'goal_and_pledged_backers',\n",
    "    'pledged',\n",
    "    'pledged_currency',\n",
    "    'pledged_amount',\n",
    "    'goal',\n",
    "    'goal_currency',\n",
    "    'goal_amount',\n",
    "]\n",
    "test_fname = os.path.join(\n",
    "    'Data',\n",
    "    'ks_goal_pledged_test.csv'\n",
    ")\n",
    "(df.loc[:, columns]\n",
    "    .to_csv(test_fname)\n",
    ")"
   ]
  },
  {
   "cell_type": "code",
   "execution_count": 69,
   "metadata": {},
   "outputs": [],
   "source": [
    "df.loc[:, 'success'] = np.where(df.pledged_amount >= df.goal_amount, 1, 0)"
   ]
  },
  {
   "cell_type": "code",
   "execution_count": 79,
   "metadata": {},
   "outputs": [
    {
     "data": {
      "text/plain": [
       "success\n",
       "0      99\n",
       "1    1229\n",
       "dtype: int64"
      ]
     },
     "execution_count": 79,
     "metadata": {},
     "output_type": "execute_result"
    }
   ],
   "source": [
    "df.groupby('success').size()"
   ]
  },
  {
   "cell_type": "code",
   "execution_count": 72,
   "metadata": {},
   "outputs": [],
   "source": [
    "documents = df.project_description.values\n",
    "vectorizer = TfidfVectorizer(stop_words=\"english\", ngram_range=(1,2))\n",
    "doc_vectors = vectorizer.fit_transform(documents)"
   ]
  },
  {
   "cell_type": "code",
   "execution_count": 73,
   "metadata": {},
   "outputs": [],
   "source": [
    "model = MultinomialNB().fit(doc_vectors, df.loc[:, 'success'])"
   ]
  },
  {
   "cell_type": "code",
   "execution_count": 76,
   "metadata": {},
   "outputs": [
    {
     "data": {
      "text/plain": [
       "1328"
      ]
     },
     "execution_count": 76,
     "metadata": {},
     "output_type": "execute_result"
    }
   ],
   "source": [
    "model.predict(doc_vectors).sum()"
   ]
  },
  {
   "cell_type": "code",
   "execution_count": 81,
   "metadata": {},
   "outputs": [
    {
     "data": {
      "text/plain": [
       "\"\\nCurrently the model is only predicted success'\\nNeed to get more failures\\n\""
      ]
     },
     "execution_count": 81,
     "metadata": {},
     "output_type": "execute_result"
    }
   ],
   "source": [
    "\"\"\"\n",
    "Currently the model is only predicted success'\n",
    "Need to get more failures\n",
    "\"\"\""
   ]
  }
 ],
 "metadata": {
  "kernelspec": {
   "display_name": "Python 3",
   "language": "python",
   "name": "python3"
  },
  "language_info": {
   "codemirror_mode": {
    "name": "ipython",
    "version": 3
   },
   "file_extension": ".py",
   "mimetype": "text/x-python",
   "name": "python",
   "nbconvert_exporter": "python",
   "pygments_lexer": "ipython3",
   "version": "3.7.3"
  }
 },
 "nbformat": 4,
 "nbformat_minor": 2
}
