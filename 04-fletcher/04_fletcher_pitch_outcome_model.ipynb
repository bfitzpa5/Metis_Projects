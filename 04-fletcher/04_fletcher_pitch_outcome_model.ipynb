{
 "cells": [
  {
   "cell_type": "code",
   "execution_count": 20,
   "metadata": {},
   "outputs": [],
   "source": [
    "import os\n",
    "import pandas as pd\n",
    "import numpy as np\n",
    "from sklearn.feature_extraction.text import TfidfVectorizer\n",
    "from sklearn.naive_bayes import GaussianNB\n",
    "from sklearn.metrics import accuracy_score"
   ]
  },
  {
   "cell_type": "code",
   "execution_count": 2,
   "metadata": {},
   "outputs": [],
   "source": [
    "fname = os.path.join(\n",
    "    'Data',\n",
    "    'kickstarter_data.json'\n",
    ")\n",
    "df = pd.read_json(fname, 'records')"
   ]
  },
  {
   "cell_type": "code",
   "execution_count": 3,
   "metadata": {},
   "outputs": [
    {
     "name": "stdout",
     "output_type": "stream",
     "text": [
      "100.0% of pitches (2,384 out of 2,384 total) have backer data\n"
     ]
    }
   ],
   "source": [
    "total_pitches = df.shape[0]\n",
    "pitches_with_backer_data = df.loc[df.goal_and_pledged_backers != '', ].shape[0]\n",
    "percent_with_backer_data = pitches_with_backer_data / total_pitches\n",
    "args = (percent_with_backer_data, pitches_with_backer_data, total_pitches)\n",
    "print('{:.1%} of pitches ({:0,.0f} out of {:0,.0f} total) have backer data'.format(*args))"
   ]
  },
  {
   "cell_type": "code",
   "execution_count": 4,
   "metadata": {},
   "outputs": [
    {
     "data": {
      "text/plain": [
       "Series([], Name: url, dtype: object)"
      ]
     },
     "execution_count": 4,
     "metadata": {},
     "output_type": "execute_result"
    }
   ],
   "source": [
    "df.loc[df.goal_and_pledged_backers == '', 'url'].head()"
   ]
  },
  {
   "cell_type": "code",
   "execution_count": 5,
   "metadata": {},
   "outputs": [],
   "source": [
    "\"\"\"\n",
    "Remove pitches without any goal, pledged and backer data\n",
    "\"\"\"\n",
    "mask = df.goal_and_pledged_backers != ''\n",
    "df = (df.loc[mask, :]\n",
    "    .reset_index()\n",
    ")"
   ]
  },
  {
   "cell_type": "code",
   "execution_count": 6,
   "metadata": {},
   "outputs": [],
   "source": [
    "pat = r'(?P<pledged>.+)\\npledged of (?P<goal>.+) goal\\n[,\\d]+\\nbackers?'\n",
    "df[['pledged', 'goal']] = df.goal_and_pledged_backers.str.extract(pat)"
   ]
  },
  {
   "cell_type": "code",
   "execution_count": 10,
   "metadata": {},
   "outputs": [],
   "source": [
    "\"\"\"\n",
    "Convert pledged and goals into respective currencies and amount\n",
    "Output to csv to check in excel\n",
    "\"\"\"\n",
    "df = df.assign(\n",
    "    pledged_currency=lambda x: x.pledged.str.extract('([^\\d]+)'),\n",
    "    pledged_amount=lambda x: x.pledged.astype(str).map(lambda x: ''.join([i for i in x if i.isdigit()])).astype(int),\n",
    "    goal_currency=lambda x: x.goal.str.extract('([^\\d]+)'),\n",
    "    goal_amount=lambda x: x.goal.astype(str).map(lambda x: ''.join([i for i in x if i.isdigit()])).astype(int),\n",
    ")\n",
    "columns = [\n",
    "    'goal_and_pledged_backers',\n",
    "    'pledged',\n",
    "    'pledged_currency',\n",
    "    'pledged_amount',\n",
    "    'goal',\n",
    "    'goal_currency',\n",
    "    'goal_amount',\n",
    "]\n",
    "test_fname = os.path.join(\n",
    "    'Data',\n",
    "    'ks_goal_pledged_test.csv'\n",
    ")\n",
    "(df.loc[:, columns]\n",
    "    .to_csv(test_fname)\n",
    ")"
   ]
  },
  {
   "cell_type": "code",
   "execution_count": 11,
   "metadata": {},
   "outputs": [],
   "source": [
    "df.loc[:, 'success'] = np.where(df.pledged_amount >= df.goal_amount, 1, 0)"
   ]
  },
  {
   "cell_type": "code",
   "execution_count": 13,
   "metadata": {},
   "outputs": [
    {
     "data": {
      "text/plain": [
       "success\n",
       "0    1149\n",
       "1    1235\n",
       "dtype: int64"
      ]
     },
     "execution_count": 13,
     "metadata": {},
     "output_type": "execute_result"
    }
   ],
   "source": [
    "\"\"\"\n",
    "Balanced Classes!\n",
    "\"\"\"\n",
    "df.groupby('success').size()"
   ]
  },
  {
   "cell_type": "code",
   "execution_count": 22,
   "metadata": {},
   "outputs": [],
   "source": [
    "documents = df.project_description.values\n",
    "vectorizer = TfidfVectorizer(stop_words=\"english\", ngram_range=(1,2))\n",
    "doc_vectors = vectorizer.fit_transform(documents).toarray()\n",
    "y_true = df.loc[:, 'success']"
   ]
  },
  {
   "cell_type": "code",
   "execution_count": 23,
   "metadata": {},
   "outputs": [],
   "source": [
    "model = GaussianNB().fit(doc_vectors, y_true)"
   ]
  },
  {
   "cell_type": "code",
   "execution_count": 32,
   "metadata": {},
   "outputs": [
    {
     "data": {
      "text/plain": [
       "'Accuracy Score:    99.62%'"
      ]
     },
     "execution_count": 32,
     "metadata": {},
     "output_type": "execute_result"
    }
   ],
   "source": [
    "y_pred = model.predict(doc_vectors)\n",
    "\"Accuracy Score:{:-10.2%}\".format(accuracy_score(y_true, y_pred))"
   ]
  }
 ],
 "metadata": {
  "kernelspec": {
   "display_name": "Python 3",
   "language": "python",
   "name": "python3"
  },
  "language_info": {
   "codemirror_mode": {
    "name": "ipython",
    "version": 3
   },
   "file_extension": ".py",
   "mimetype": "text/x-python",
   "name": "python",
   "nbconvert_exporter": "python",
   "pygments_lexer": "ipython3",
   "version": "3.7.3"
  }
 },
 "nbformat": 4,
 "nbformat_minor": 2
}
