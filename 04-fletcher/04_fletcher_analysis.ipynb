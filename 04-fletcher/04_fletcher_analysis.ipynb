{
 "cells": [
  {
   "cell_type": "code",
   "execution_count": 1,
   "metadata": {},
   "outputs": [],
   "source": [
    "import os\n",
    "import pandas as pd\n",
    "import numpy as np\n",
    "import urllib\n",
    "from sklearn.feature_extraction.text import CountVectorizer"
   ]
  },
  {
   "cell_type": "code",
   "execution_count": 2,
   "metadata": {},
   "outputs": [],
   "source": [
    "fname = os.path.join(\n",
    "    'Data',\n",
    "    'kickstarter_data.json'\n",
    ")\n",
    "df = pd.read_json(fname, 'records')"
   ]
  },
  {
   "cell_type": "code",
   "execution_count": 3,
   "metadata": {},
   "outputs": [
    {
     "data": {
      "text/html": [
       "<div>\n",
       "<style scoped>\n",
       "    .dataframe tbody tr th:only-of-type {\n",
       "        vertical-align: middle;\n",
       "    }\n",
       "\n",
       "    .dataframe tbody tr th {\n",
       "        vertical-align: top;\n",
       "    }\n",
       "\n",
       "    .dataframe thead th {\n",
       "        text-align: right;\n",
       "    }\n",
       "</style>\n",
       "<table border=\"1\" class=\"dataframe\">\n",
       "  <thead>\n",
       "    <tr style=\"text-align: right;\">\n",
       "      <th></th>\n",
       "      <th>category_url</th>\n",
       "      <th>goal_and_pledged_backers</th>\n",
       "      <th>project_description</th>\n",
       "      <th>project_name</th>\n",
       "      <th>risks</th>\n",
       "      <th>story</th>\n",
       "      <th>url</th>\n",
       "    </tr>\n",
       "  </thead>\n",
       "  <tbody>\n",
       "    <tr>\n",
       "      <th>0</th>\n",
       "      <td>https://www.kickstarter.com/discover/categories/publishing/children's%20books?ref=category</td>\n",
       "      <td>$13,037\\npledged of $12,000 goal\\n171\\nbackers</td>\n",
       "      <td>A delightful, beautifully illustrated, children’s book that you and your family will treasure.</td>\n",
       "      <td>The Christmas Stairs: a story of love, joy, hope</td>\n",
       "      <td>Risks and challenges\\nThe Christmas Stairs is ready for print through Credo House Publishers, which i...</td>\n",
       "      <td>Yes, it's Christmas in August! And you are among the first to hear about The Christmas Stairs, a bra...</td>\n",
       "      <td>https://www.kickstarter.com/projects/thechristmasstory/the-christmas-stairs-a-story-of-love-joy-hope</td>\n",
       "    </tr>\n",
       "    <tr>\n",
       "      <th>1</th>\n",
       "      <td>https://www.kickstarter.com/discover/categories/fashion/apparel?ref=project_category_badge</td>\n",
       "      <td>$36\\npledged of $392 goal\\n3\\nbackers</td>\n",
       "      <td></td>\n",
       "      <td></td>\n",
       "      <td>Risks and challenges\\nPins can develop flaws during the manufacturing process. I have dedicated some ...</td>\n",
       "      <td>with the help of an amazingly Talented Lady @thingymabobsboutique \\nmy Wendy Darling inspired Pin was...</td>\n",
       "      <td>https://www.kickstarter.com/projects/pincessemmifer/wendy-darling-fantasy-pin</td>\n",
       "    </tr>\n",
       "    <tr>\n",
       "      <th>2</th>\n",
       "      <td>https://www.kickstarter.com/discover/categories/art?ref=category</td>\n",
       "      <td>£325\\npledged of £325 goal\\n19\\nbackers</td>\n",
       "      <td>A collection of Pokemon inspired enamel pins.</td>\n",
       "      <td>Cutiemon - Pokemon inspired enamel pins</td>\n",
       "      <td>Risks and challenges\\nI've done extensive research to ensure I'm working with a manufacturer who has ...</td>\n",
       "      <td>Hai!\\nWelcome to my kickstarter, I’m Rosanna, and I’m a small girl with a vivid imagination hiding ou...</td>\n",
       "      <td>https://www.kickstarter.com/projects/rosannalouise/cutiemon-pokemon-inspired-enamel-pins</td>\n",
       "    </tr>\n",
       "    <tr>\n",
       "      <th>3</th>\n",
       "      <td>https://www.kickstarter.com/discover/categories/design/product%20design?ref=project_category_badge</td>\n",
       "      <td>$5,005\\npledged of $8,500 goal\\n100\\nbackers</td>\n",
       "      <td></td>\n",
       "      <td></td>\n",
       "      <td>Risks and challenges\\nThe entire planner is created, and the file is submitted to the manufacturer. W...</td>\n",
       "      <td>Update: \\nIf we reach our funding goal, all backers will receive a digital download to an entire 2020...</td>\n",
       "      <td>https://www.kickstarter.com/projects/totteoki/manuscript-planner-2020</td>\n",
       "    </tr>\n",
       "    <tr>\n",
       "      <th>4</th>\n",
       "      <td>https://www.kickstarter.com/discover/categories/fashion/jewelry?ref=category</td>\n",
       "      <td>£1,487\\npledged of £500 goal\\n27\\nbackers</td>\n",
       "      <td>A spiritual pendant design to embrace the owners strength and courage following personal loss, Kidemó...</td>\n",
       "      <td>Amoreantos: Sterling Silver Pendant - Kidemonas (guardian)</td>\n",
       "      <td>Risks and challenges\\nWe hope that you will help us get this Kidemónas prototype into production in o...</td>\n",
       "      <td>A new Amoreantos' pendant design called Kidemónas meaning ‘guardian’ is now available here on Kicksta...</td>\n",
       "      <td>https://www.kickstarter.com/projects/1836446643/new-kick-ass-sterling-silver-pendant-by-amoreantos</td>\n",
       "    </tr>\n",
       "  </tbody>\n",
       "</table>\n",
       "</div>"
      ],
      "text/plain": [
       "                                                                                         category_url                        goal_and_pledged_backers                                                                                       project_description                                                project_name                                                                                                     risks                                                                                                     story                                                                                                   url\n",
       "0          https://www.kickstarter.com/discover/categories/publishing/children's%20books?ref=category  $13,037\\npledged of $12,000 goal\\n171\\nbackers            A delightful, beautifully illustrated, children’s book that you and your family will treasure.            The Christmas Stairs: a story of love, joy, hope  Risks and challenges\\nThe Christmas Stairs is ready for print through Credo House Publishers, which i...   Yes, it's Christmas in August! And you are among the first to hear about The Christmas Stairs, a bra...  https://www.kickstarter.com/projects/thechristmasstory/the-christmas-stairs-a-story-of-love-joy-hope\n",
       "1          https://www.kickstarter.com/discover/categories/fashion/apparel?ref=project_category_badge           $36\\npledged of $392 goal\\n3\\nbackers                                                                                                                                                                        Risks and challenges\\nPins can develop flaws during the manufacturing process. I have dedicated some ...  with the help of an amazingly Talented Lady @thingymabobsboutique \\nmy Wendy Darling inspired Pin was...                         https://www.kickstarter.com/projects/pincessemmifer/wendy-darling-fantasy-pin\n",
       "2                                    https://www.kickstarter.com/discover/categories/art?ref=category         £325\\npledged of £325 goal\\n19\\nbackers                                                             A collection of Pokemon inspired enamel pins.                     Cutiemon - Pokemon inspired enamel pins  Risks and challenges\\nI've done extensive research to ensure I'm working with a manufacturer who has ...  Hai!\\nWelcome to my kickstarter, I’m Rosanna, and I’m a small girl with a vivid imagination hiding ou...              https://www.kickstarter.com/projects/rosannalouise/cutiemon-pokemon-inspired-enamel-pins\n",
       "3  https://www.kickstarter.com/discover/categories/design/product%20design?ref=project_category_badge    $5,005\\npledged of $8,500 goal\\n100\\nbackers                                                                                                                                                                        Risks and challenges\\nThe entire planner is created, and the file is submitted to the manufacturer. W...  Update: \\nIf we reach our funding goal, all backers will receive a digital download to an entire 2020...                                 https://www.kickstarter.com/projects/totteoki/manuscript-planner-2020\n",
       "4                        https://www.kickstarter.com/discover/categories/fashion/jewelry?ref=category       £1,487\\npledged of £500 goal\\n27\\nbackers  A spiritual pendant design to embrace the owners strength and courage following personal loss, Kidemó...  Amoreantos: Sterling Silver Pendant - Kidemonas (guardian)  Risks and challenges\\nWe hope that you will help us get this Kidemónas prototype into production in o...  A new Amoreantos' pendant design called Kidemónas meaning ‘guardian’ is now available here on Kicksta...    https://www.kickstarter.com/projects/1836446643/new-kick-ass-sterling-silver-pendant-by-amoreantos"
      ]
     },
     "execution_count": 3,
     "metadata": {},
     "output_type": "execute_result"
    }
   ],
   "source": [
    "df.head()"
   ]
  },
  {
   "cell_type": "code",
   "execution_count": 4,
   "metadata": {},
   "outputs": [
    {
     "data": {
      "text/html": [
       "<div>\n",
       "<style scoped>\n",
       "    .dataframe tbody tr th:only-of-type {\n",
       "        vertical-align: middle;\n",
       "    }\n",
       "\n",
       "    .dataframe tbody tr th {\n",
       "        vertical-align: top;\n",
       "    }\n",
       "\n",
       "    .dataframe thead th {\n",
       "        text-align: right;\n",
       "    }\n",
       "</style>\n",
       "<table border=\"1\" class=\"dataframe\">\n",
       "  <thead>\n",
       "    <tr style=\"text-align: right;\">\n",
       "      <th></th>\n",
       "      <th>0</th>\n",
       "    </tr>\n",
       "  </thead>\n",
       "  <tbody>\n",
       "    <tr>\n",
       "      <th>0</th>\n",
       "      <td>publishing/children's%20books</td>\n",
       "    </tr>\n",
       "    <tr>\n",
       "      <th>1</th>\n",
       "      <td>fashion/apparel</td>\n",
       "    </tr>\n",
       "    <tr>\n",
       "      <th>2</th>\n",
       "      <td>art</td>\n",
       "    </tr>\n",
       "    <tr>\n",
       "      <th>3</th>\n",
       "      <td>design/product%20design</td>\n",
       "    </tr>\n",
       "    <tr>\n",
       "      <th>4</th>\n",
       "      <td>fashion/jewelry</td>\n",
       "    </tr>\n",
       "    <tr>\n",
       "      <th>...</th>\n",
       "      <td>...</td>\n",
       "    </tr>\n",
       "    <tr>\n",
       "      <th>1748</th>\n",
       "      <td>technology/sound</td>\n",
       "    </tr>\n",
       "    <tr>\n",
       "      <th>1822</th>\n",
       "      <td>food/food%20trucks</td>\n",
       "    </tr>\n",
       "    <tr>\n",
       "      <th>1929</th>\n",
       "      <td>film%20&amp;%20video/movie%20theaters</td>\n",
       "    </tr>\n",
       "    <tr>\n",
       "      <th>2018</th>\n",
       "      <td>publishing/letterpress</td>\n",
       "    </tr>\n",
       "    <tr>\n",
       "      <th>2026</th>\n",
       "      <td>theater/immersive</td>\n",
       "    </tr>\n",
       "  </tbody>\n",
       "</table>\n",
       "<p>151 rows × 1 columns</p>\n",
       "</div>"
      ],
      "text/plain": [
       "                                      0\n",
       "0         publishing/children's%20books\n",
       "1                       fashion/apparel\n",
       "2                                   art\n",
       "3               design/product%20design\n",
       "4                       fashion/jewelry\n",
       "...                                 ...\n",
       "1748                   technology/sound\n",
       "1822                 food/food%20trucks\n",
       "1929  film%20&%20video/movie%20theaters\n",
       "2018             publishing/letterpress\n",
       "2026                  theater/immersive\n",
       "\n",
       "[151 rows x 1 columns]"
      ]
     },
     "execution_count": 4,
     "metadata": {},
     "output_type": "execute_result"
    }
   ],
   "source": [
    "cat_pat = r'https://www.kickstarter.com/discover/categories/(.+)[/?].+'\n",
    "df.category_url.str.extract(cat_pat).drop_duplicates()"
   ]
  },
  {
   "cell_type": "code",
   "execution_count": 5,
   "metadata": {},
   "outputs": [
    {
     "data": {
      "text/plain": [
       "Series([], Name: category_url, dtype: object)"
      ]
     },
     "execution_count": 5,
     "metadata": {},
     "output_type": "execute_result"
    }
   ],
   "source": [
    "cat_pat = r'https://www.kickstarter.com/discover/categories/(.+)[/\\?].+'\n",
    "mask = df.category_url.str.extract(cat_pat)[0].isna()\n",
    "df.loc[mask, 'category_url']"
   ]
  },
  {
   "cell_type": "code",
   "execution_count": 6,
   "metadata": {},
   "outputs": [
    {
     "name": "stdout",
     "output_type": "stream",
     "text": [
      "0        publishing\n",
      "1           fashion\n",
      "2               art\n",
      "3            design\n",
      "5        technology\n",
      "7            comics\n",
      "9             games\n",
      "10            music\n",
      "11             food\n",
      "18     film & video\n",
      "25            dance\n",
      "29       journalism\n",
      "39           crafts\n",
      "82          theater\n",
      "173     photography\n"
     ]
    }
   ],
   "source": [
    "cat_pat = r'https://www.kickstarter.com/discover/categories/([\\w \\&]+)[/\\?].+'\n",
    "print(df.loc[:, 'category_url'].apply(urllib.parse.unquote).str.extract(cat_pat)[0].drop_duplicates().to_string())"
   ]
  },
  {
   "cell_type": "code",
   "execution_count": 7,
   "metadata": {},
   "outputs": [],
   "source": [
    "df.loc[:, 'category'] = (df.loc[:, 'category_url'].apply(urllib.parse.unquote)\n",
    "    .str.extract(cat_pat)\n",
    "    [0]\n",
    ")"
   ]
  },
  {
   "cell_type": "code",
   "execution_count": 8,
   "metadata": {},
   "outputs": [
    {
     "data": {
      "text/plain": [
       "games           363\n",
       "art             299\n",
       "design          240\n",
       "film & video    230\n",
       "publishing      216\n",
       "technology      203\n",
       "fashion         202\n",
       "music           189\n",
       "comics          163\n",
       "food            114\n",
       "crafts           66\n",
       "photography      37\n",
       "theater          32\n",
       "journalism       21\n",
       "dance             9\n",
       "Name: category, dtype: int64"
      ]
     },
     "execution_count": 8,
     "metadata": {},
     "output_type": "execute_result"
    }
   ],
   "source": [
    "df.category.value_counts()"
   ]
  },
  {
   "cell_type": "code",
   "execution_count": 9,
   "metadata": {},
   "outputs": [],
   "source": [
    "pat = r'(?P<pledged>.+)\\npledged of (?P<goal>.+) goal\\n[,\\d]+\\nbackers?'\n",
    "df[['pledged', 'goal']] = df.goal_and_pledged_backers.str.extract(pat)"
   ]
  },
  {
   "cell_type": "code",
   "execution_count": 10,
   "metadata": {},
   "outputs": [],
   "source": [
    "\"\"\"\n",
    "Convert pledged and goals into respective currencies and amount\n",
    "Output to csv to check in excel\n",
    "\"\"\"\n",
    "df = df.assign(\n",
    "    pledged_currency=lambda x: x.pledged.str.extract('([^\\d]+)'),\n",
    "    pledged_amount=lambda x: x.pledged.map(lambda x: ''.join([i for i in x if i.isdigit()])).astype(int),\n",
    "    goal_currency=lambda x: x.goal.str.extract('([^\\d]+)'),\n",
    "    goal_amount=lambda x: x.goal.map(lambda x: ''.join([i for i in x if i.isdigit()])).astype(int),\n",
    "    success=lambda x: np.where(x.pledged_amount >= x.goal_amount, 1, 0),\n",
    ")"
   ]
  }
 ],
 "metadata": {
  "kernelspec": {
   "display_name": "Python 3",
   "language": "python",
   "name": "python3"
  },
  "language_info": {
   "codemirror_mode": {
    "name": "ipython",
    "version": 3
   },
   "file_extension": ".py",
   "mimetype": "text/x-python",
   "name": "python",
   "nbconvert_exporter": "python",
   "pygments_lexer": "ipython3",
   "version": "3.7.6"
  }
 },
 "nbformat": 4,
 "nbformat_minor": 2
}
