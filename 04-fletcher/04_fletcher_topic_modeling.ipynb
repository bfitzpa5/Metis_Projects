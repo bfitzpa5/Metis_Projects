{
 "cells": [
  {
   "cell_type": "code",
   "execution_count": 17,
   "metadata": {},
   "outputs": [],
   "source": [
    "import os\n",
    "import pandas as pd\n",
    "from gensim import corpora, models, similarities, matutils\n",
    "from sklearn import datasets\n",
    "from sklearn.feature_extraction.text import CountVectorizer\n",
    "from sklearn.cluster import KMeans"
   ]
  },
  {
   "cell_type": "code",
   "execution_count": 31,
   "metadata": {},
   "outputs": [],
   "source": [
    "fname = os.path.join(\n",
    "    'Data',\n",
    "    'kickstarter_data.json'\n",
    ")\n",
    "df = pd.read_json(fname, 'records')\n",
    "kickstarter_corpus = df.project_description.values"
   ]
  },
  {
   "cell_type": "code",
   "execution_count": 38,
   "metadata": {},
   "outputs": [
    {
     "name": "stdout",
     "output_type": "stream",
     "text": [
      "(15721, 2387)\n"
     ]
    }
   ],
   "source": [
    "kwargs = dict(\n",
    "    ngram_range=(1, 2),  \n",
    "    stop_words='english',\n",
    "    token_pattern=\"\\\\b[a-z][a-z]+\\\\b\",\n",
    ")\n",
    "cv = CountVectorizer(**kwargs)\n",
    "cv.fit(kickstarter_corpus)\n",
    "counts = cv.transform(kickstarter_corpus).transpose()\n",
    "print(counts.shape)\n",
    "corpus = matutils.Sparse2Corpus(counts)\n",
    "id2word = dict((v, k) for k, v in cv.vocabulary_.items())"
   ]
  },
  {
   "cell_type": "code",
   "execution_count": 45,
   "metadata": {},
   "outputs": [],
   "source": [
    "lda = models.LdaModel(corpus=corpus, num_topics=10, id2word=id2word, passes=10)"
   ]
  },
  {
   "cell_type": "code",
   "execution_count": 46,
   "metadata": {},
   "outputs": [
    {
     "data": {
      "text/plain": [
       "[(0,\n",
       "  '0.004*\"deck\" + 0.004*\"card\" + 0.003*\"new\" + 0.003*\"pc\" + 0.003*\"game\" + 0.003*\"playing card\" + 0.002*\"audio\"'),\n",
       " (1,\n",
       "  '0.005*\"change\" + 0.005*\"collection\" + 0.005*\"help\" + 0.004*\"new\" + 0.004*\"world\" + 0.003*\"make\" + 0.003*\"foot\"'),\n",
       " (2,\n",
       "  '0.016*\"enamel\" + 0.010*\"pin\" + 0.008*\"enamel pin\" + 0.007*\"pins\" + 0.006*\"enamel pins\" + 0.005*\"series\" + 0.005*\"designed\"'),\n",
       " (3,\n",
       "  '0.004*\"game\" + 0.004*\"book\" + 0.003*\"life\" + 0.003*\"best\" + 0.003*\"use\" + 0.003*\"looking\" + 0.003*\"products\"'),\n",
       " (4,\n",
       "  '0.012*\"pins\" + 0.009*\"enamel pins\" + 0.009*\"enamel\" + 0.004*\"hard\" + 0.004*\"hard enamel\" + 0.004*\"set\" + 0.004*\"inspired\"'),\n",
       " (5,\n",
       "  '0.004*\"cats\" + 0.004*\"series\" + 0.003*\"album\" + 0.003*\"featuring\" + 0.003*\"unique\" + 0.003*\"comic\" + 0.003*\"sci fi\"'),\n",
       " (6,\n",
       "  '0.004*\"rpg\" + 0.004*\"camera\" + 0.004*\"zine\" + 0.003*\"tabletop\" + 0.003*\"set\" + 0.003*\"dice\" + 0.003*\"old\"'),\n",
       " (7,\n",
       "  '0.004*\"film\" + 0.004*\"custom\" + 0.003*\"help\" + 0.003*\"friends\" + 0.003*\"lifetime\" + 0.003*\"female\" + 0.002*\"world\"'),\n",
       " (8,\n",
       "  '0.009*\"game\" + 0.005*\"card\" + 0.005*\"card game\" + 0.004*\"dragon\" + 0.003*\"board\" + 0.003*\"better\" + 0.003*\"board game\"'),\n",
       " (9,\n",
       "  '0.005*\"novel\" + 0.005*\"book\" + 0.004*\"graphic\" + 0.004*\"graphic novel\" + 0.003*\"featuring\" + 0.003*\"volume\" + 0.003*\"anthology\"')]"
      ]
     },
     "execution_count": 46,
     "metadata": {},
     "output_type": "execute_result"
    }
   ],
   "source": [
    "lda.print_topics(num_words=7)"
   ]
  }
 ],
 "metadata": {
  "kernelspec": {
   "display_name": "Python 3",
   "language": "python",
   "name": "python3"
  },
  "language_info": {
   "codemirror_mode": {
    "name": "ipython",
    "version": 3
   },
   "file_extension": ".py",
   "mimetype": "text/x-python",
   "name": "python",
   "nbconvert_exporter": "python",
   "pygments_lexer": "ipython3",
   "version": "3.7.3"
  }
 },
 "nbformat": 4,
 "nbformat_minor": 2
}
