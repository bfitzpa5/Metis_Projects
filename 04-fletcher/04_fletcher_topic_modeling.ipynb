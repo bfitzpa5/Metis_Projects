{
 "cells": [
  {
   "cell_type": "code",
   "execution_count": 1,
   "metadata": {},
   "outputs": [],
   "source": [
    "import os\n",
    "import pandas as pd\n",
    "from gensim import corpora, models, similarities, matutils\n",
    "from sklearn import datasets\n",
    "from sklearn.feature_extraction.text import CountVectorizer\n",
    "from sklearn.cluster import KMeans"
   ]
  },
  {
   "cell_type": "code",
   "execution_count": 2,
   "metadata": {},
   "outputs": [],
   "source": [
    "fname = os.path.join(\n",
    "    'Data',\n",
    "    'kickstarter_data.json'\n",
    ")\n",
    "df = pd.read_json(fname, 'records')"
   ]
  },
  {
   "cell_type": "code",
   "execution_count": 3,
   "metadata": {},
   "outputs": [
    {
     "data": {
      "text/plain": [
       "570                https://www.kickstarter.com/projects/1198151177/brooklyns-journey\n",
       "571              https://www.kickstarter.com/projects/foodasfunctionalart/state-dish\n",
       "572    https://www.kickstarter.com/projects/oido/oido-optical-illusion-desk-ornament\n",
       "573                   https://www.kickstarter.com/projects/jwasher/the-other-side-13\n",
       "574       https://www.kickstarter.com/projects/floorsfilm/if-these-floors-could-talk\n",
       "Name: url, dtype: object"
      ]
     },
     "execution_count": 3,
     "metadata": {},
     "output_type": "execute_result"
    }
   ],
   "source": [
    "df.loc[df.story.isna(), 'url'].head()"
   ]
  },
  {
   "cell_type": "code",
   "execution_count": 4,
   "metadata": {},
   "outputs": [
    {
     "name": "stdout",
     "output_type": "stream",
     "text": [
      "95.4% of pitches (2,274 out of 2,384 total) have stories\n"
     ]
    }
   ],
   "source": [
    "total_pitches = df.shape[0]\n",
    "pitches_with_stories = df.loc[~df.story.isna(), ].shape[0]\n",
    "percent_with_story = pitches_with_stories / total_pitches\n",
    "args = (percent_with_story, pitches_with_stories, total_pitches)\n",
    "print('{:.1%} of pitches ({:0,.0f} out of {:0,.0f} total) have stories'.format(*args))"
   ]
  },
  {
   "cell_type": "code",
   "execution_count": 5,
   "metadata": {},
   "outputs": [],
   "source": [
    "\"\"\"\n",
    "We''ll fill the remaining pitches with their project description\n",
    "\"\"\"\n",
    "df.story = df.story.fillna(df.project_description)"
   ]
  },
  {
   "cell_type": "code",
   "execution_count": 6,
   "metadata": {},
   "outputs": [
    {
     "name": "stdout",
     "output_type": "stream",
     "text": [
      "(631174, 2384)\n"
     ]
    }
   ],
   "source": [
    "kickstarter_corpus = df.story.values\n",
    "kwargs = dict(\n",
    "    ngram_range=(1, 2),  \n",
    "    stop_words='english',\n",
    "    token_pattern=\"\\\\b[a-z][a-z]+\\\\b\",\n",
    ")\n",
    "cv = CountVectorizer(**kwargs)\n",
    "cv.fit(kickstarter_corpus)\n",
    "counts = cv.transform(kickstarter_corpus).transpose()\n",
    "print(counts.shape)\n",
    "corpus = matutils.Sparse2Corpus(counts)\n",
    "id2word = dict((v, k) for k, v in cv.vocabulary_.items())"
   ]
  },
  {
   "cell_type": "code",
   "execution_count": 7,
   "metadata": {},
   "outputs": [],
   "source": [
    "lda = models.LdaModel(corpus=corpus, num_topics=10, id2word=id2word, passes=10)"
   ]
  },
  {
   "cell_type": "code",
   "execution_count": 8,
   "metadata": {},
   "outputs": [
    {
     "data": {
      "text/plain": [
       "[(0,\n",
       "  '0.005*\"que\" + 0.005*\"la\" + 0.004*\"und\" + 0.004*\"die\" + 0.004*\"en\" + 0.004*\"el\" + 0.003*\"es\"'),\n",
       " (1,\n",
       "  '0.004*\"iron\" + 0.003*\"pans\" + 0.002*\"cookware\" + 0.002*\"wrought\" + 0.002*\"solidteknics\" + 0.001*\"cast iron\" + 0.001*\"cast\"'),\n",
       " (2,\n",
       "  '0.001*\"space pen\" + 0.001*\"pensv\" + 0.000*\"fisher space\" + 0.000*\"tinkle\" + 0.000*\"tinkle topper\" + 0.000*\"topper\" + 0.000*\"cigarettes\"'),\n",
       " (3,\n",
       "  '0.007*\"book\" + 0.004*\"game\" + 0.004*\"cards\" + 0.003*\"art\" + 0.003*\"new\" + 0.003*\"world\" + 0.002*\"kickstarter\"'),\n",
       " (4,\n",
       "  '0.001*\"compatible\" + 0.001*\"tested\" + 0.001*\"verified\" + 0.001*\"tested verified\" + 0.001*\"primes\" + 0.001*\"lens\" + 0.001*\"expected\"'),\n",
       " (5,\n",
       "  '0.000*\"sauce\" + 0.000*\"chat daddy\" + 0.000*\"daddy\" + 0.000*\"chat\" + 0.000*\"sternum strap\" + 0.000*\"sternum\" + 0.000*\"honbinos\"'),\n",
       " (6,\n",
       "  '0.000*\"featherknight\" + 0.000*\"inch hard\" + 0.000*\"plating black\" + 0.000*\"comes backing\" + 0.000*\"black plating\" + 0.000*\"pin black\" + 0.000*\"pin comes\"'),\n",
       " (7,\n",
       "  '0.000*\"mw\" + 0.000*\"generation\" + 0.000*\"potr\" + 0.000*\"generation mw\" + 0.000*\"legend orion\" + 0.000*\"potr pots\" + 0.000*\"pw\"'),\n",
       " (8,\n",
       "  '0.004*\"time\" + 0.004*\"make\" + 0.003*\"like\" + 0.003*\"help\" + 0.003*\"new\" + 0.003*\"project\" + 0.003*\"kickstarter\"'),\n",
       " (9,\n",
       "  '0.011*\"film\" + 0.007*\"la\" + 0.005*\"en\" + 0.003*\"que\" + 0.003*\"et\" + 0.003*\"festival\" + 0.002*\"director\"')]"
      ]
     },
     "execution_count": 8,
     "metadata": {},
     "output_type": "execute_result"
    }
   ],
   "source": [
    "lda.print_topics(num_words=7)"
   ]
  }
 ],
 "metadata": {
  "kernelspec": {
   "display_name": "Python 3",
   "language": "python",
   "name": "python3"
  },
  "language_info": {
   "codemirror_mode": {
    "name": "ipython",
    "version": 3
   },
   "file_extension": ".py",
   "mimetype": "text/x-python",
   "name": "python",
   "nbconvert_exporter": "python",
   "pygments_lexer": "ipython3",
   "version": "3.7.3"
  }
 },
 "nbformat": 4,
 "nbformat_minor": 2
}
