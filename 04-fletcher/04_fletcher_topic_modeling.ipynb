{
 "cells": [
  {
   "cell_type": "code",
   "execution_count": 1,
   "metadata": {},
   "outputs": [],
   "source": [
    "import os\n",
    "import pandas as pd\n",
    "from gensim import corpora, models, similarities, matutils\n",
    "from sklearn import datasets\n",
    "from sklearn.feature_extraction.text import CountVectorizer\n",
    "from sklearn.cluster import KMeans"
   ]
  },
  {
   "cell_type": "code",
   "execution_count": 2,
   "metadata": {},
   "outputs": [],
   "source": [
    "fname = os.path.join(\n",
    "    'Data',\n",
    "    'kickstarter_data.json'\n",
    ")\n",
    "df = pd.read_json(fname, 'records')"
   ]
  },
  {
   "cell_type": "code",
   "execution_count": 3,
   "metadata": {},
   "outputs": [
    {
     "data": {
      "text/plain": [
       "570                https://www.kickstarter.com/projects/1198151177/brooklyns-journey\n",
       "571              https://www.kickstarter.com/projects/foodasfunctionalart/state-dish\n",
       "572    https://www.kickstarter.com/projects/oido/oido-optical-illusion-desk-ornament\n",
       "573                   https://www.kickstarter.com/projects/jwasher/the-other-side-13\n",
       "574       https://www.kickstarter.com/projects/floorsfilm/if-these-floors-could-talk\n",
       "Name: url, dtype: object"
      ]
     },
     "execution_count": 3,
     "metadata": {},
     "output_type": "execute_result"
    }
   ],
   "source": [
    "df.loc[df.story.isna(), 'url'].head()"
   ]
  },
  {
   "cell_type": "code",
   "execution_count": 4,
   "metadata": {},
   "outputs": [
    {
     "name": "stdout",
     "output_type": "stream",
     "text": [
      "95.4% of pitches (2,274 out of 2,384 total) have stories\n"
     ]
    }
   ],
   "source": [
    "total_pitches = df.shape[0]\n",
    "pitches_with_stories = df.loc[~df.story.isna(), ].shape[0]\n",
    "percent_with_story = pitches_with_stories / total_pitches\n",
    "args = (percent_with_story, pitches_with_stories, total_pitches)\n",
    "print('{:.1%} of pitches ({:0,.0f} out of {:0,.0f} total) have stories'.format(*args))"
   ]
  },
  {
   "cell_type": "code",
   "execution_count": 4,
   "metadata": {},
   "outputs": [],
   "source": [
    "\"\"\"\n",
    "We''ll fill the remaining pitches with their project description\n",
    "\"\"\"\n",
    "df.story = df.story.fillna(df.project_description)"
   ]
  },
  {
   "cell_type": "code",
   "execution_count": 5,
   "metadata": {},
   "outputs": [
    {
     "name": "stdout",
     "output_type": "stream",
     "text": [
      "(240356, 2385)\n"
     ]
    }
   ],
   "source": [
    "kickstarter_corpus = df.story.values\n",
    "kwargs = dict(\n",
    "    ngram_range=(1, 2),  \n",
    "    stop_words='english',\n",
    "    token_pattern=\"\\\\b[a-z][a-z]+\\\\b\",\n",
    ")\n",
    "cv = CountVectorizer(**kwargs)\n",
    "cv.fit(kickstarter_corpus)\n",
    "counts = cv.transform(kickstarter_corpus).transpose()\n",
    "print(counts.shape)\n",
    "corpus = matutils.Sparse2Corpus(counts)\n",
    "id2word = dict((v, k) for k, v in cv.vocabulary_.items())"
   ]
  },
  {
   "cell_type": "code",
   "execution_count": 6,
   "metadata": {},
   "outputs": [],
   "source": [
    "lda = models.LdaModel(corpus=corpus, num_topics=10, id2word=id2word, passes=10)"
   ]
  },
  {
   "cell_type": "code",
   "execution_count": 7,
   "metadata": {},
   "outputs": [
    {
     "data": {
      "text/plain": [
       "[(0,\n",
       "  '0.004*\"la\" + 0.004*\"el\" + 0.004*\"en\" + 0.004*\"que\" + 0.002*\"una\" + 0.002*\"es\" + 0.001*\"para\"'),\n",
       " (1,\n",
       "  '0.003*\"time\" + 0.003*\"game\" + 0.003*\"new\" + 0.003*\"make\" + 0.003*\"like\" + 0.003*\"kickstarter\" + 0.003*\"book\"'),\n",
       " (2,\n",
       "  '0.001*\"ditko\" + 0.000*\"comic\" + 0.000*\"hokey\" + 0.000*\"hokey pokey\" + 0.000*\"pokey\" + 0.000*\"comic book\" + 0.000*\"book\"'),\n",
       " (3,\n",
       "  '0.001*\"chat\" + 0.001*\"chat daddy\" + 0.001*\"daddy\" + 0.001*\"nya\" + 0.001*\"dog\" + 0.001*\"coat\" + 0.001*\"dog coat\"'),\n",
       " (4,\n",
       "  '0.001*\"tray\" + 0.001*\"pin\" + 0.001*\"enamel\" + 0.001*\"organizer\" + 0.001*\"minis\" + 0.001*\"enamel pin\" + 0.000*\"card\"'),\n",
       " (5,\n",
       "  '0.002*\"moss\" + 0.001*\"desk\" + 0.001*\"tamberlane\" + 0.001*\"letter\" + 0.000*\"letter desk\" + 0.000*\"seat\" + 0.000*\"storage\"'),\n",
       " (6,\n",
       "  '0.004*\"pins\" + 0.002*\"pin\" + 0.002*\"enamel\" + 0.002*\"kickstarter\" + 0.001*\"pledge\" + 0.001*\"unlocked\" + 0.001*\"hard enamel\"'),\n",
       " (7,\n",
       "  '0.001*\"pins\" + 0.001*\"enamel\" + 0.001*\"featuring\" + 0.001*\"series\" + 0.000*\"wan\" + 0.000*\"enamel pins\" + 0.000*\"denim\"'),\n",
       " (8,\n",
       "  '0.002*\"mrtv\" + 0.001*\"die\" + 0.001*\"und\" + 0.001*\"ich\" + 0.001*\"das\" + 0.001*\"vr\" + 0.001*\"picra\"'),\n",
       " (9,\n",
       "  '0.001*\"food\" + 0.000*\"dog\" + 0.000*\"pet\" + 0.000*\"dojinshi\" + 0.000*\"book\" + 0.000*\"pathfinder\" + 0.000*\"fresh\"')]"
      ]
     },
     "execution_count": 7,
     "metadata": {},
     "output_type": "execute_result"
    }
   ],
   "source": [
    "lda.print_topics(num_words=7)"
   ]
  }
 ],
 "metadata": {
  "kernelspec": {
   "display_name": "Python 3",
   "language": "python",
   "name": "python3"
  },
  "language_info": {
   "codemirror_mode": {
    "name": "ipython",
    "version": 3
   },
   "file_extension": ".py",
   "mimetype": "text/x-python",
   "name": "python",
   "nbconvert_exporter": "python",
   "pygments_lexer": "ipython3",
   "version": "3.7.3"
  }
 },
 "nbformat": 4,
 "nbformat_minor": 2
}
