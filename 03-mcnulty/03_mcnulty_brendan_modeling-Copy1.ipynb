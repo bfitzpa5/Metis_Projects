{
 "cells": [
  {
   "cell_type": "code",
   "execution_count": 7,
   "metadata": {},
   "outputs": [],
   "source": [
    "import pandas as pd\n",
    "import numpy as np\n",
    "import datetime as dt\n",
    "import pickle\n",
    "\n",
    "import patsy\n",
    "from sklearn.cross_validation import train_test_split\n",
    "from sklearn.linear_model import LogisticRegression\n",
    "from sklearn.neighbors import KNeighborsClassifier\n",
    "from sklearn.naive_bayes import GaussianNB\n",
    "from sklearn.svm import SVC\n",
    "from sklearn.tree import DecisionTreeClassifier\n",
    "from sklearn.ensemble import RandomForestClassifier\n",
    "\n",
    "from sklearn.metrics import precision_score\n",
    "from sklearn.metrics import accuracy_score\n",
    "from sklearn.metrics import f1_score\n",
    "from sklearn.metrics import recall_score\n",
    "from sklearn.metrics import auc\n",
    "from sklearn.metrics import roc_curve\n",
    "\n",
    "from sklearn.cross_validation import cross_val_score\n",
    "\n",
    "import matplotlib.pyplot as plt\n",
    "import seaborn\n",
    "%matplotlib inline"
   ]
  },
  {
   "cell_type": "code",
   "execution_count": 8,
   "metadata": {
    "collapsed": true
   },
   "outputs": [],
   "source": [
    " pd.set_option('display.max_colwidth', -1)"
   ]
  },
  {
   "cell_type": "code",
   "execution_count": 9,
   "metadata": {},
   "outputs": [
    {
     "name": "stdout",
     "output_type": "stream",
     "text": [
      "total 903920\r\n",
      "-rw-rw-r-- 1 brendanfitzpatrick brendanfitzpatrick     80682 Jul 30 00:55 03_mcnulty_brendan_modeling-Copy1.ipynb\r\n",
      "-rw-rw-r-- 1 brendanfitzpatrick brendanfitzpatrick     78939 Jul 29 23:52 03_mcnulty_brendan_modeling.ipynb\r\n",
      "-rwxr-xr-x 1 brendanfitzpatrick brendanfitzpatrick    172221 Jul 28 21:30 challenge_set_1_brendan.ipynb\r\n",
      "-rw-r--r-- 1 brendanfitzpatrick brendanfitzpatrick    178337 Jul 28 15:12 challenge_set_7_brendan.ipynb\r\n",
      "-rw-rw-r-- 1 brendanfitzpatrick brendanfitzpatrick     28379 Jul 28 20:40 challenge_set_8_brendan.ipynb\r\n",
      "-rw-r--r-- 1 brendanfitzpatrick brendanfitzpatrick 477673733 Jul 27 20:07 df_inv.pkl\r\n",
      "-rw-r--r-- 1 brendanfitzpatrick brendanfitzpatrick    195373 Jul 27 20:00 df_joint.pkl\r\n",
      "-rw-r--r-- 1 brendanfitzpatrick brendanfitzpatrick   2746559 Jul 27 19:59 df_sub_policy.pkl\r\n",
      "-rw-r--r-- 1 brendanfitzpatrick brendanfitzpatrick   1737231 Jul 29 15:52 Intro_to_Regression_Solutions.ipynb\r\n",
      "-rw-r--r-- 1 brendanfitzpatrick brendanfitzpatrick     20995 Jul 27 21:25 LCDataDictionary.xlsx\r\n",
      "-rw-r--r-- 1 brendanfitzpatrick brendanfitzpatrick     11942 Jul 29 16:27 Lending_Club_Domain_Knowledge.ipynb\r\n",
      "-rw-r--r-- 1 brendanfitzpatrick brendanfitzpatrick    355500 Jul 28 20:55 Linear_Assumptions_testing.ipynb\r\n",
      "-rw-r--r-- 1 brendanfitzpatrick brendanfitzpatrick 441771600 Jul 29 20:48 loan.csv\r\n",
      "-rw-r--r-- 1 brendanfitzpatrick brendanfitzpatrick      1371 Jul 28 13:39 pair.html\r\n",
      "-rw-r--r-- 1 brendanfitzpatrick brendanfitzpatrick    139619 Jul 27 21:31 project_03_mcnulty_brendan.ipynb\r\n",
      "-rw-r--r-- 1 brendanfitzpatrick brendanfitzpatrick     60044 Jul 28 13:17 SVM_digits.ipynb\r\n",
      "-rw-r--r-- 1 brendanfitzpatrick brendanfitzpatrick    315927 Jul 28 13:17 SVMs.ipynb\r\n"
     ]
    }
   ],
   "source": [
    "!ls -l"
   ]
  },
  {
   "cell_type": "code",
   "execution_count": 10,
   "metadata": {
    "collapsed": true
   },
   "outputs": [],
   "source": [
    "with open(\"df_inv.pkl\", 'rb') as picklefile: \n",
    "    df_inv = pickle.load(picklefile)"
   ]
  },
  {
   "cell_type": "code",
   "execution_count": 11,
   "metadata": {
    "collapsed": true
   },
   "outputs": [],
   "source": [
    "with open(\"df_joint.pkl\", 'rb') as picklefile: \n",
    "    df_joint = pickle.load(picklefile)"
   ]
  },
  {
   "cell_type": "code",
   "execution_count": 12,
   "metadata": {
    "collapsed": true
   },
   "outputs": [],
   "source": [
    "with open(\"df_sub_policy.pkl\",'rb') as picklefile:\n",
    "    df_sub_policy = pickle.load(picklefile)"
   ]
  },
  {
   "cell_type": "code",
   "execution_count": 13,
   "metadata": {},
   "outputs": [
    {
     "data": {
      "text/html": [
       "<div>\n",
       "<style>\n",
       "    .dataframe thead tr:only-child th {\n",
       "        text-align: right;\n",
       "    }\n",
       "\n",
       "    .dataframe thead th {\n",
       "        text-align: left;\n",
       "    }\n",
       "\n",
       "    .dataframe tbody tr th {\n",
       "        vertical-align: top;\n",
       "    }\n",
       "</style>\n",
       "<table border=\"1\" class=\"dataframe\">\n",
       "  <thead>\n",
       "    <tr style=\"text-align: right;\">\n",
       "      <th></th>\n",
       "      <th>Description</th>\n",
       "    </tr>\n",
       "    <tr>\n",
       "      <th>LoanStatNew</th>\n",
       "      <th></th>\n",
       "    </tr>\n",
       "  </thead>\n",
       "  <tbody>\n",
       "    <tr>\n",
       "      <th>addr_state</th>\n",
       "      <td>The state provided by the borrower in the loan application</td>\n",
       "    </tr>\n",
       "    <tr>\n",
       "      <th>annual_inc</th>\n",
       "      <td>The self-reported annual income provided by the borrower during registration.</td>\n",
       "    </tr>\n",
       "    <tr>\n",
       "      <th>annual_inc_joint</th>\n",
       "      <td>The combined self-reported annual income provided by the co-borrowers during registration</td>\n",
       "    </tr>\n",
       "    <tr>\n",
       "      <th>application_type</th>\n",
       "      <td>Indicates whether the loan is an individual application or a joint application with two co-borrowers</td>\n",
       "    </tr>\n",
       "    <tr>\n",
       "      <th>collection_recovery_fee</th>\n",
       "      <td>post charge off collection fee</td>\n",
       "    </tr>\n",
       "    <tr>\n",
       "      <th>collections_12_mths_ex_med</th>\n",
       "      <td>Number of collections in 12 months excluding medical collections</td>\n",
       "    </tr>\n",
       "    <tr>\n",
       "      <th>delinq_2yrs</th>\n",
       "      <td>The number of 30+ days past-due incidences of delinquency in the borrower's credit file for the past 2 years</td>\n",
       "    </tr>\n",
       "    <tr>\n",
       "      <th>desc</th>\n",
       "      <td>Loan description provided by the borrower</td>\n",
       "    </tr>\n",
       "    <tr>\n",
       "      <th>dti</th>\n",
       "      <td>A ratio calculated using the borrower’s total monthly debt payments on the total debt obligations, excluding mortgage and the requested LC loan, divided by the borrower’s self-reported monthly income.</td>\n",
       "    </tr>\n",
       "    <tr>\n",
       "      <th>dti_joint</th>\n",
       "      <td>A ratio calculated using the co-borrowers' total monthly payments on the total debt obligations, excluding mortgages and the requested LC loan, divided by the co-borrowers' combined self-reported monthly income</td>\n",
       "    </tr>\n",
       "    <tr>\n",
       "      <th>earliest_cr_line</th>\n",
       "      <td>The month the borrower's earliest reported credit line was opened</td>\n",
       "    </tr>\n",
       "    <tr>\n",
       "      <th>emp_length</th>\n",
       "      <td>Employment length in years. Possible values are between 0 and 10 where 0 means less than one year and 10 means ten or more years.</td>\n",
       "    </tr>\n",
       "    <tr>\n",
       "      <th>emp_title</th>\n",
       "      <td>The job title supplied by the Borrower when applying for the loan.*</td>\n",
       "    </tr>\n",
       "    <tr>\n",
       "      <th>fico_range_high</th>\n",
       "      <td>The upper boundary range the borrower’s FICO at loan origination belongs to.</td>\n",
       "    </tr>\n",
       "    <tr>\n",
       "      <th>fico_range_low</th>\n",
       "      <td>The lower boundary range the borrower’s FICO at loan origination belongs to.</td>\n",
       "    </tr>\n",
       "    <tr>\n",
       "      <th>funded_amnt</th>\n",
       "      <td>The total amount committed to that loan at that point in time.</td>\n",
       "    </tr>\n",
       "    <tr>\n",
       "      <th>funded_amnt_inv</th>\n",
       "      <td>The total amount committed by investors for that loan at that point in time.</td>\n",
       "    </tr>\n",
       "    <tr>\n",
       "      <th>grade</th>\n",
       "      <td>LC assigned loan grade</td>\n",
       "    </tr>\n",
       "    <tr>\n",
       "      <th>home_ownership</th>\n",
       "      <td>The home ownership status provided by the borrower during registration. Our values are: RENT, OWN, MORTGAGE, OTHER.</td>\n",
       "    </tr>\n",
       "    <tr>\n",
       "      <th>id</th>\n",
       "      <td>A unique LC assigned ID for the loan listing.</td>\n",
       "    </tr>\n",
       "    <tr>\n",
       "      <th>initial_list_status</th>\n",
       "      <td>The initial listing status of the loan. Possible values are – W, F</td>\n",
       "    </tr>\n",
       "    <tr>\n",
       "      <th>inq_last_6mths</th>\n",
       "      <td>The number of inquiries in past 6 months (excluding auto and mortgage inquiries)</td>\n",
       "    </tr>\n",
       "    <tr>\n",
       "      <th>installment</th>\n",
       "      <td>The monthly payment owed by the borrower if the loan originates.</td>\n",
       "    </tr>\n",
       "    <tr>\n",
       "      <th>int_rate</th>\n",
       "      <td>Interest Rate on the loan</td>\n",
       "    </tr>\n",
       "    <tr>\n",
       "      <th>is_inc_v</th>\n",
       "      <td>Indicates if income was verified by LC, not verified, or if the income source was verified</td>\n",
       "    </tr>\n",
       "    <tr>\n",
       "      <th>issue_d</th>\n",
       "      <td>The month which the loan was funded</td>\n",
       "    </tr>\n",
       "    <tr>\n",
       "      <th>last_credit_pull_d</th>\n",
       "      <td>The most recent month LC pulled credit for this loan</td>\n",
       "    </tr>\n",
       "    <tr>\n",
       "      <th>last_fico_range_high</th>\n",
       "      <td>The upper boundary range the borrower’s last FICO pulled belongs to.</td>\n",
       "    </tr>\n",
       "    <tr>\n",
       "      <th>last_fico_range_low</th>\n",
       "      <td>The lower boundary range the borrower’s last FICO pulled belongs to.</td>\n",
       "    </tr>\n",
       "    <tr>\n",
       "      <th>last_pymnt_amnt</th>\n",
       "      <td>Last total payment amount received</td>\n",
       "    </tr>\n",
       "    <tr>\n",
       "      <th>...</th>\n",
       "      <td>...</td>\n",
       "    </tr>\n",
       "    <tr>\n",
       "      <th>title</th>\n",
       "      <td>The loan title provided by the borrower</td>\n",
       "    </tr>\n",
       "    <tr>\n",
       "      <th>total_acc</th>\n",
       "      <td>The total number of credit lines currently in the borrower's credit file</td>\n",
       "    </tr>\n",
       "    <tr>\n",
       "      <th>total_pymnt</th>\n",
       "      <td>Payments received to date for total amount funded</td>\n",
       "    </tr>\n",
       "    <tr>\n",
       "      <th>total_pymnt_inv</th>\n",
       "      <td>Payments received to date for portion of total amount funded by investors</td>\n",
       "    </tr>\n",
       "    <tr>\n",
       "      <th>total_rec_int</th>\n",
       "      <td>Interest received to date</td>\n",
       "    </tr>\n",
       "    <tr>\n",
       "      <th>total_rec_late_fee</th>\n",
       "      <td>Late fees received to date</td>\n",
       "    </tr>\n",
       "    <tr>\n",
       "      <th>total_rec_prncp</th>\n",
       "      <td>Principal received to date</td>\n",
       "    </tr>\n",
       "    <tr>\n",
       "      <th>url</th>\n",
       "      <td>URL for the LC page with listing data.</td>\n",
       "    </tr>\n",
       "    <tr>\n",
       "      <th>verified_status_joint</th>\n",
       "      <td>Indicates if the co-borrowers' joint income was verified by LC, not verified, or if the income source was verified</td>\n",
       "    </tr>\n",
       "    <tr>\n",
       "      <th>zip_code</th>\n",
       "      <td>The first 3 numbers of the zip code provided by the borrower in the loan application.</td>\n",
       "    </tr>\n",
       "    <tr>\n",
       "      <th>open_acc_6m</th>\n",
       "      <td>Number of open trades in last 6 months</td>\n",
       "    </tr>\n",
       "    <tr>\n",
       "      <th>open_il_6m</th>\n",
       "      <td>Number of currently active installment trades</td>\n",
       "    </tr>\n",
       "    <tr>\n",
       "      <th>open_il_12m</th>\n",
       "      <td>Number of installment accounts opened in past 12 months</td>\n",
       "    </tr>\n",
       "    <tr>\n",
       "      <th>open_il_24m</th>\n",
       "      <td>Number of installment accounts opened in past 24 months</td>\n",
       "    </tr>\n",
       "    <tr>\n",
       "      <th>mths_since_rcnt_il</th>\n",
       "      <td>Months since most recent installment accounts opened</td>\n",
       "    </tr>\n",
       "    <tr>\n",
       "      <th>total_bal_il</th>\n",
       "      <td>Total current balance of all installment accounts</td>\n",
       "    </tr>\n",
       "    <tr>\n",
       "      <th>il_util</th>\n",
       "      <td>Ratio of total current balance to high credit/credit limit on all install acct</td>\n",
       "    </tr>\n",
       "    <tr>\n",
       "      <th>open_rv_12m</th>\n",
       "      <td>Number of revolving trades opened in past 12 months</td>\n",
       "    </tr>\n",
       "    <tr>\n",
       "      <th>open_rv_24m</th>\n",
       "      <td>Number of revolving trades opened in past 24 months</td>\n",
       "    </tr>\n",
       "    <tr>\n",
       "      <th>max_bal_bc</th>\n",
       "      <td>Maximum current balance owed on all revolving accounts</td>\n",
       "    </tr>\n",
       "    <tr>\n",
       "      <th>all_util</th>\n",
       "      <td>Balance to credit limit on all trades</td>\n",
       "    </tr>\n",
       "    <tr>\n",
       "      <th>total_rev_hi_lim</th>\n",
       "      <td>Total revolving high credit/credit limit</td>\n",
       "    </tr>\n",
       "    <tr>\n",
       "      <th>inq_fi</th>\n",
       "      <td>Number of personal finance inquiries</td>\n",
       "    </tr>\n",
       "    <tr>\n",
       "      <th>total_cu_tl</th>\n",
       "      <td>Number of finance trades</td>\n",
       "    </tr>\n",
       "    <tr>\n",
       "      <th>inq_last_12m</th>\n",
       "      <td>Number of credit inquiries in past 12 months</td>\n",
       "    </tr>\n",
       "    <tr>\n",
       "      <th>acc_now_delinq</th>\n",
       "      <td>The number of accounts on which the borrower is now delinquent.</td>\n",
       "    </tr>\n",
       "    <tr>\n",
       "      <th>tot_coll_amt</th>\n",
       "      <td>Total collection amounts ever owed</td>\n",
       "    </tr>\n",
       "    <tr>\n",
       "      <th>tot_cur_bal</th>\n",
       "      <td>Total current balance of all accounts</td>\n",
       "    </tr>\n",
       "    <tr>\n",
       "      <th>NaN</th>\n",
       "      <td>NaN</td>\n",
       "    </tr>\n",
       "    <tr>\n",
       "      <th>NaN</th>\n",
       "      <td>* Employer Title replaces Employer Name for all loans listed after 9/23/2013</td>\n",
       "    </tr>\n",
       "  </tbody>\n",
       "</table>\n",
       "<p>80 rows × 1 columns</p>\n",
       "</div>"
      ],
      "text/plain": [
       "                                                                                                                                                                                                                                   Description\n",
       "LoanStatNew                                                                                                                                                                                                                                   \n",
       "addr_state                  The state provided by the borrower in the loan application                                                                                                                                                        \n",
       "annual_inc                  The self-reported annual income provided by the borrower during registration.                                                                                                                                     \n",
       "annual_inc_joint            The combined self-reported annual income provided by the co-borrowers during registration                                                                                                                         \n",
       "application_type            Indicates whether the loan is an individual application or a joint application with two co-borrowers                                                                                                              \n",
       "collection_recovery_fee     post charge off collection fee                                                                                                                                                                                    \n",
       "collections_12_mths_ex_med  Number of collections in 12 months excluding medical collections                                                                                                                                                  \n",
       "delinq_2yrs                 The number of 30+ days past-due incidences of delinquency in the borrower's credit file for the past 2 years                                                                                                      \n",
       "desc                        Loan description provided by the borrower                                                                                                                                                                         \n",
       "dti                         A ratio calculated using the borrower’s total monthly debt payments on the total debt obligations, excluding mortgage and the requested LC loan, divided by the borrower’s self-reported monthly income.          \n",
       "dti_joint                   A ratio calculated using the co-borrowers' total monthly payments on the total debt obligations, excluding mortgages and the requested LC loan, divided by the co-borrowers' combined self-reported monthly income\n",
       "earliest_cr_line            The month the borrower's earliest reported credit line was opened                                                                                                                                                 \n",
       "emp_length                  Employment length in years. Possible values are between 0 and 10 where 0 means less than one year and 10 means ten or more years.                                                                                 \n",
       "emp_title                   The job title supplied by the Borrower when applying for the loan.*                                                                                                                                               \n",
       "fico_range_high             The upper boundary range the borrower’s FICO at loan origination belongs to.                                                                                                                                      \n",
       "fico_range_low              The lower boundary range the borrower’s FICO at loan origination belongs to.                                                                                                                                      \n",
       "funded_amnt                 The total amount committed to that loan at that point in time.                                                                                                                                                    \n",
       "funded_amnt_inv             The total amount committed by investors for that loan at that point in time.                                                                                                                                      \n",
       "grade                       LC assigned loan grade                                                                                                                                                                                            \n",
       "home_ownership              The home ownership status provided by the borrower during registration. Our values are: RENT, OWN, MORTGAGE, OTHER.                                                                                               \n",
       "id                          A unique LC assigned ID for the loan listing.                                                                                                                                                                     \n",
       "initial_list_status         The initial listing status of the loan. Possible values are – W, F                                                                                                                                                \n",
       "inq_last_6mths              The number of inquiries in past 6 months (excluding auto and mortgage inquiries)                                                                                                                                  \n",
       "installment                 The monthly payment owed by the borrower if the loan originates.                                                                                                                                                  \n",
       "int_rate                    Interest Rate on the loan                                                                                                                                                                                         \n",
       "is_inc_v                    Indicates if income was verified by LC, not verified, or if the income source was verified                                                                                                                        \n",
       "issue_d                     The month which the loan was funded                                                                                                                                                                               \n",
       "last_credit_pull_d          The most recent month LC pulled credit for this loan                                                                                                                                                              \n",
       "last_fico_range_high        The upper boundary range the borrower’s last FICO pulled belongs to.                                                                                                                                              \n",
       "last_fico_range_low         The lower boundary range the borrower’s last FICO pulled belongs to.                                                                                                                                              \n",
       "last_pymnt_amnt             Last total payment amount received                                                                                                                                                                                \n",
       "...                                                                                          ...                                                                                                                                              \n",
       "title                       The loan title provided by the borrower                                                                                                                                                                           \n",
       "total_acc                   The total number of credit lines currently in the borrower's credit file                                                                                                                                          \n",
       "total_pymnt                 Payments received to date for total amount funded                                                                                                                                                                 \n",
       "total_pymnt_inv             Payments received to date for portion of total amount funded by investors                                                                                                                                         \n",
       "total_rec_int               Interest received to date                                                                                                                                                                                         \n",
       "total_rec_late_fee          Late fees received to date                                                                                                                                                                                        \n",
       "total_rec_prncp             Principal received to date                                                                                                                                                                                        \n",
       "url                         URL for the LC page with listing data.                                                                                                                                                                            \n",
       "verified_status_joint       Indicates if the co-borrowers' joint income was verified by LC, not verified, or if the income source was verified                                                                                                \n",
       "zip_code                    The first 3 numbers of the zip code provided by the borrower in the loan application.                                                                                                                             \n",
       "open_acc_6m                 Number of open trades in last 6 months                                                                                                                                                                            \n",
       "open_il_6m                  Number of currently active installment trades                                                                                                                                                                     \n",
       "open_il_12m                 Number of installment accounts opened in past 12 months                                                                                                                                                           \n",
       "open_il_24m                 Number of installment accounts opened in past 24 months                                                                                                                                                           \n",
       "mths_since_rcnt_il          Months since most recent installment accounts opened                                                                                                                                                              \n",
       "total_bal_il                Total current balance of all installment accounts                                                                                                                                                                 \n",
       "il_util                     Ratio of total current balance to high credit/credit limit on all install acct                                                                                                                                    \n",
       "open_rv_12m                 Number of revolving trades opened in past 12 months                                                                                                                                                               \n",
       "open_rv_24m                 Number of revolving trades opened in past 24 months                                                                                                                                                               \n",
       "max_bal_bc                  Maximum current balance owed on all revolving accounts                                                                                                                                                            \n",
       "all_util                    Balance to credit limit on all trades                                                                                                                                                                             \n",
       "total_rev_hi_lim            Total revolving high credit/credit limit                                                                                                                                                                          \n",
       "inq_fi                      Number of personal finance inquiries                                                                                                                                                                              \n",
       "total_cu_tl                 Number of finance trades                                                                                                                                                                                          \n",
       "inq_last_12m                Number of credit inquiries in past 12 months                                                                                                                                                                      \n",
       "acc_now_delinq              The number of accounts on which the borrower is now delinquent.                                                                                                                                                   \n",
       "tot_coll_amt                Total collection amounts ever owed                                                                                                                                                                                \n",
       "tot_cur_bal                 Total current balance of all accounts                                                                                                                                                                             \n",
       "NaN                         NaN                                                                                                                                                                                                               \n",
       "NaN                         * Employer Title replaces Employer Name for all loans listed after 9/23/2013                                                                                                                                      \n",
       "\n",
       "[80 rows x 1 columns]"
      ]
     },
     "execution_count": 13,
     "metadata": {},
     "output_type": "execute_result"
    }
   ],
   "source": [
    "df_key = pd.read_excel('LCDataDictionary.xlsx')\n",
    "df_key.set_index('LoanStatNew')"
   ]
  },
  {
   "cell_type": "code",
   "execution_count": 14,
   "metadata": {},
   "outputs": [
    {
     "data": {
      "text/html": [
       "<div>\n",
       "<style>\n",
       "    .dataframe thead tr:only-child th {\n",
       "        text-align: right;\n",
       "    }\n",
       "\n",
       "    .dataframe thead th {\n",
       "        text-align: left;\n",
       "    }\n",
       "\n",
       "    .dataframe tbody tr th {\n",
       "        vertical-align: top;\n",
       "    }\n",
       "</style>\n",
       "<table border=\"1\" class=\"dataframe\">\n",
       "  <thead>\n",
       "    <tr style=\"text-align: right;\">\n",
       "      <th></th>\n",
       "      <th>LoanStatNew</th>\n",
       "      <th>Description</th>\n",
       "    </tr>\n",
       "  </thead>\n",
       "  <tbody>\n",
       "    <tr>\n",
       "      <th>0</th>\n",
       "      <td>addr_state</td>\n",
       "      <td>The state provided by the borrower in the loan application</td>\n",
       "    </tr>\n",
       "    <tr>\n",
       "      <th>1</th>\n",
       "      <td>annual_inc</td>\n",
       "      <td>The self-reported annual income provided by the borrower during registration.</td>\n",
       "    </tr>\n",
       "    <tr>\n",
       "      <th>2</th>\n",
       "      <td>annual_inc_joint</td>\n",
       "      <td>The combined self-reported annual income provided by the co-borrowers during registration</td>\n",
       "    </tr>\n",
       "    <tr>\n",
       "      <th>3</th>\n",
       "      <td>application_type</td>\n",
       "      <td>Indicates whether the loan is an individual application or a joint application with two co-borrowers</td>\n",
       "    </tr>\n",
       "    <tr>\n",
       "      <th>4</th>\n",
       "      <td>collection_recovery_fee</td>\n",
       "      <td>post charge off collection fee</td>\n",
       "    </tr>\n",
       "    <tr>\n",
       "      <th>5</th>\n",
       "      <td>collections_12_mths_ex_med</td>\n",
       "      <td>Number of collections in 12 months excluding medical collections</td>\n",
       "    </tr>\n",
       "    <tr>\n",
       "      <th>6</th>\n",
       "      <td>delinq_2yrs</td>\n",
       "      <td>The number of 30+ days past-due incidences of delinquency in the borrower's credit file for the past 2 years</td>\n",
       "    </tr>\n",
       "    <tr>\n",
       "      <th>7</th>\n",
       "      <td>desc</td>\n",
       "      <td>Loan description provided by the borrower</td>\n",
       "    </tr>\n",
       "    <tr>\n",
       "      <th>8</th>\n",
       "      <td>dti</td>\n",
       "      <td>A ratio calculated using the borrower’s total monthly debt payments on the total debt obligations, excluding mortgage and the requested LC loan, divided by the borrower’s self-reported monthly income.</td>\n",
       "    </tr>\n",
       "    <tr>\n",
       "      <th>9</th>\n",
       "      <td>dti_joint</td>\n",
       "      <td>A ratio calculated using the co-borrowers' total monthly payments on the total debt obligations, excluding mortgages and the requested LC loan, divided by the co-borrowers' combined self-reported monthly income</td>\n",
       "    </tr>\n",
       "    <tr>\n",
       "      <th>10</th>\n",
       "      <td>earliest_cr_line</td>\n",
       "      <td>The month the borrower's earliest reported credit line was opened</td>\n",
       "    </tr>\n",
       "    <tr>\n",
       "      <th>11</th>\n",
       "      <td>emp_length</td>\n",
       "      <td>Employment length in years. Possible values are between 0 and 10 where 0 means less than one year and 10 means ten or more years.</td>\n",
       "    </tr>\n",
       "    <tr>\n",
       "      <th>12</th>\n",
       "      <td>emp_title</td>\n",
       "      <td>The job title supplied by the Borrower when applying for the loan.*</td>\n",
       "    </tr>\n",
       "    <tr>\n",
       "      <th>13</th>\n",
       "      <td>fico_range_high</td>\n",
       "      <td>The upper boundary range the borrower’s FICO at loan origination belongs to.</td>\n",
       "    </tr>\n",
       "    <tr>\n",
       "      <th>14</th>\n",
       "      <td>fico_range_low</td>\n",
       "      <td>The lower boundary range the borrower’s FICO at loan origination belongs to.</td>\n",
       "    </tr>\n",
       "    <tr>\n",
       "      <th>15</th>\n",
       "      <td>funded_amnt</td>\n",
       "      <td>The total amount committed to that loan at that point in time.</td>\n",
       "    </tr>\n",
       "    <tr>\n",
       "      <th>16</th>\n",
       "      <td>funded_amnt_inv</td>\n",
       "      <td>The total amount committed by investors for that loan at that point in time.</td>\n",
       "    </tr>\n",
       "    <tr>\n",
       "      <th>17</th>\n",
       "      <td>grade</td>\n",
       "      <td>LC assigned loan grade</td>\n",
       "    </tr>\n",
       "    <tr>\n",
       "      <th>18</th>\n",
       "      <td>home_ownership</td>\n",
       "      <td>The home ownership status provided by the borrower during registration. Our values are: RENT, OWN, MORTGAGE, OTHER.</td>\n",
       "    </tr>\n",
       "    <tr>\n",
       "      <th>19</th>\n",
       "      <td>id</td>\n",
       "      <td>A unique LC assigned ID for the loan listing.</td>\n",
       "    </tr>\n",
       "    <tr>\n",
       "      <th>20</th>\n",
       "      <td>initial_list_status</td>\n",
       "      <td>The initial listing status of the loan. Possible values are – W, F</td>\n",
       "    </tr>\n",
       "    <tr>\n",
       "      <th>21</th>\n",
       "      <td>inq_last_6mths</td>\n",
       "      <td>The number of inquiries in past 6 months (excluding auto and mortgage inquiries)</td>\n",
       "    </tr>\n",
       "    <tr>\n",
       "      <th>22</th>\n",
       "      <td>installment</td>\n",
       "      <td>The monthly payment owed by the borrower if the loan originates.</td>\n",
       "    </tr>\n",
       "    <tr>\n",
       "      <th>23</th>\n",
       "      <td>int_rate</td>\n",
       "      <td>Interest Rate on the loan</td>\n",
       "    </tr>\n",
       "    <tr>\n",
       "      <th>24</th>\n",
       "      <td>is_inc_v</td>\n",
       "      <td>Indicates if income was verified by LC, not verified, or if the income source was verified</td>\n",
       "    </tr>\n",
       "    <tr>\n",
       "      <th>25</th>\n",
       "      <td>issue_d</td>\n",
       "      <td>The month which the loan was funded</td>\n",
       "    </tr>\n",
       "    <tr>\n",
       "      <th>26</th>\n",
       "      <td>last_credit_pull_d</td>\n",
       "      <td>The most recent month LC pulled credit for this loan</td>\n",
       "    </tr>\n",
       "    <tr>\n",
       "      <th>27</th>\n",
       "      <td>last_fico_range_high</td>\n",
       "      <td>The upper boundary range the borrower’s last FICO pulled belongs to.</td>\n",
       "    </tr>\n",
       "    <tr>\n",
       "      <th>28</th>\n",
       "      <td>last_fico_range_low</td>\n",
       "      <td>The lower boundary range the borrower’s last FICO pulled belongs to.</td>\n",
       "    </tr>\n",
       "    <tr>\n",
       "      <th>29</th>\n",
       "      <td>last_pymnt_amnt</td>\n",
       "      <td>Last total payment amount received</td>\n",
       "    </tr>\n",
       "    <tr>\n",
       "      <th>...</th>\n",
       "      <td>...</td>\n",
       "      <td>...</td>\n",
       "    </tr>\n",
       "    <tr>\n",
       "      <th>50</th>\n",
       "      <td>title</td>\n",
       "      <td>The loan title provided by the borrower</td>\n",
       "    </tr>\n",
       "    <tr>\n",
       "      <th>51</th>\n",
       "      <td>total_acc</td>\n",
       "      <td>The total number of credit lines currently in the borrower's credit file</td>\n",
       "    </tr>\n",
       "    <tr>\n",
       "      <th>52</th>\n",
       "      <td>total_pymnt</td>\n",
       "      <td>Payments received to date for total amount funded</td>\n",
       "    </tr>\n",
       "    <tr>\n",
       "      <th>53</th>\n",
       "      <td>total_pymnt_inv</td>\n",
       "      <td>Payments received to date for portion of total amount funded by investors</td>\n",
       "    </tr>\n",
       "    <tr>\n",
       "      <th>54</th>\n",
       "      <td>total_rec_int</td>\n",
       "      <td>Interest received to date</td>\n",
       "    </tr>\n",
       "    <tr>\n",
       "      <th>55</th>\n",
       "      <td>total_rec_late_fee</td>\n",
       "      <td>Late fees received to date</td>\n",
       "    </tr>\n",
       "    <tr>\n",
       "      <th>56</th>\n",
       "      <td>total_rec_prncp</td>\n",
       "      <td>Principal received to date</td>\n",
       "    </tr>\n",
       "    <tr>\n",
       "      <th>57</th>\n",
       "      <td>url</td>\n",
       "      <td>URL for the LC page with listing data.</td>\n",
       "    </tr>\n",
       "    <tr>\n",
       "      <th>58</th>\n",
       "      <td>verified_status_joint</td>\n",
       "      <td>Indicates if the co-borrowers' joint income was verified by LC, not verified, or if the income source was verified</td>\n",
       "    </tr>\n",
       "    <tr>\n",
       "      <th>59</th>\n",
       "      <td>zip_code</td>\n",
       "      <td>The first 3 numbers of the zip code provided by the borrower in the loan application.</td>\n",
       "    </tr>\n",
       "    <tr>\n",
       "      <th>60</th>\n",
       "      <td>open_acc_6m</td>\n",
       "      <td>Number of open trades in last 6 months</td>\n",
       "    </tr>\n",
       "    <tr>\n",
       "      <th>61</th>\n",
       "      <td>open_il_6m</td>\n",
       "      <td>Number of currently active installment trades</td>\n",
       "    </tr>\n",
       "    <tr>\n",
       "      <th>62</th>\n",
       "      <td>open_il_12m</td>\n",
       "      <td>Number of installment accounts opened in past 12 months</td>\n",
       "    </tr>\n",
       "    <tr>\n",
       "      <th>63</th>\n",
       "      <td>open_il_24m</td>\n",
       "      <td>Number of installment accounts opened in past 24 months</td>\n",
       "    </tr>\n",
       "    <tr>\n",
       "      <th>64</th>\n",
       "      <td>mths_since_rcnt_il</td>\n",
       "      <td>Months since most recent installment accounts opened</td>\n",
       "    </tr>\n",
       "    <tr>\n",
       "      <th>65</th>\n",
       "      <td>total_bal_il</td>\n",
       "      <td>Total current balance of all installment accounts</td>\n",
       "    </tr>\n",
       "    <tr>\n",
       "      <th>66</th>\n",
       "      <td>il_util</td>\n",
       "      <td>Ratio of total current balance to high credit/credit limit on all install acct</td>\n",
       "    </tr>\n",
       "    <tr>\n",
       "      <th>67</th>\n",
       "      <td>open_rv_12m</td>\n",
       "      <td>Number of revolving trades opened in past 12 months</td>\n",
       "    </tr>\n",
       "    <tr>\n",
       "      <th>68</th>\n",
       "      <td>open_rv_24m</td>\n",
       "      <td>Number of revolving trades opened in past 24 months</td>\n",
       "    </tr>\n",
       "    <tr>\n",
       "      <th>69</th>\n",
       "      <td>max_bal_bc</td>\n",
       "      <td>Maximum current balance owed on all revolving accounts</td>\n",
       "    </tr>\n",
       "    <tr>\n",
       "      <th>70</th>\n",
       "      <td>all_util</td>\n",
       "      <td>Balance to credit limit on all trades</td>\n",
       "    </tr>\n",
       "    <tr>\n",
       "      <th>71</th>\n",
       "      <td>total_rev_hi_lim</td>\n",
       "      <td>Total revolving high credit/credit limit</td>\n",
       "    </tr>\n",
       "    <tr>\n",
       "      <th>72</th>\n",
       "      <td>inq_fi</td>\n",
       "      <td>Number of personal finance inquiries</td>\n",
       "    </tr>\n",
       "    <tr>\n",
       "      <th>73</th>\n",
       "      <td>total_cu_tl</td>\n",
       "      <td>Number of finance trades</td>\n",
       "    </tr>\n",
       "    <tr>\n",
       "      <th>74</th>\n",
       "      <td>inq_last_12m</td>\n",
       "      <td>Number of credit inquiries in past 12 months</td>\n",
       "    </tr>\n",
       "    <tr>\n",
       "      <th>75</th>\n",
       "      <td>acc_now_delinq</td>\n",
       "      <td>The number of accounts on which the borrower is now delinquent.</td>\n",
       "    </tr>\n",
       "    <tr>\n",
       "      <th>76</th>\n",
       "      <td>tot_coll_amt</td>\n",
       "      <td>Total collection amounts ever owed</td>\n",
       "    </tr>\n",
       "    <tr>\n",
       "      <th>77</th>\n",
       "      <td>tot_cur_bal</td>\n",
       "      <td>Total current balance of all accounts</td>\n",
       "    </tr>\n",
       "    <tr>\n",
       "      <th>78</th>\n",
       "      <td>NaN</td>\n",
       "      <td>NaN</td>\n",
       "    </tr>\n",
       "    <tr>\n",
       "      <th>79</th>\n",
       "      <td>NaN</td>\n",
       "      <td>* Employer Title replaces Employer Name for all loans listed after 9/23/2013</td>\n",
       "    </tr>\n",
       "  </tbody>\n",
       "</table>\n",
       "<p>80 rows × 2 columns</p>\n",
       "</div>"
      ],
      "text/plain": [
       "                   LoanStatNew  \\\n",
       "0   addr_state                   \n",
       "1   annual_inc                   \n",
       "2   annual_inc_joint             \n",
       "3   application_type             \n",
       "4   collection_recovery_fee      \n",
       "5   collections_12_mths_ex_med   \n",
       "6   delinq_2yrs                  \n",
       "7   desc                         \n",
       "8   dti                          \n",
       "9   dti_joint                    \n",
       "10  earliest_cr_line             \n",
       "11  emp_length                   \n",
       "12  emp_title                    \n",
       "13  fico_range_high              \n",
       "14  fico_range_low               \n",
       "15  funded_amnt                  \n",
       "16  funded_amnt_inv              \n",
       "17  grade                        \n",
       "18  home_ownership               \n",
       "19  id                           \n",
       "20  initial_list_status          \n",
       "21  inq_last_6mths               \n",
       "22  installment                  \n",
       "23  int_rate                     \n",
       "24  is_inc_v                     \n",
       "25  issue_d                      \n",
       "26  last_credit_pull_d           \n",
       "27  last_fico_range_high         \n",
       "28  last_fico_range_low          \n",
       "29  last_pymnt_amnt              \n",
       "..              ...              \n",
       "50  title                        \n",
       "51  total_acc                    \n",
       "52  total_pymnt                  \n",
       "53  total_pymnt_inv              \n",
       "54  total_rec_int                \n",
       "55  total_rec_late_fee           \n",
       "56  total_rec_prncp              \n",
       "57  url                          \n",
       "58  verified_status_joint        \n",
       "59  zip_code                     \n",
       "60  open_acc_6m                  \n",
       "61  open_il_6m                   \n",
       "62  open_il_12m                  \n",
       "63  open_il_24m                  \n",
       "64  mths_since_rcnt_il           \n",
       "65  total_bal_il                 \n",
       "66  il_util                      \n",
       "67  open_rv_12m                  \n",
       "68  open_rv_24m                  \n",
       "69  max_bal_bc                   \n",
       "70  all_util                     \n",
       "71  total_rev_hi_lim             \n",
       "72  inq_fi                       \n",
       "73  total_cu_tl                  \n",
       "74  inq_last_12m                 \n",
       "75  acc_now_delinq               \n",
       "76  tot_coll_amt                 \n",
       "77  tot_cur_bal                  \n",
       "78  NaN                          \n",
       "79  NaN                          \n",
       "\n",
       "                                                                                                                                                                                                           Description  \n",
       "0   The state provided by the borrower in the loan application                                                                                                                                                          \n",
       "1   The self-reported annual income provided by the borrower during registration.                                                                                                                                       \n",
       "2   The combined self-reported annual income provided by the co-borrowers during registration                                                                                                                           \n",
       "3   Indicates whether the loan is an individual application or a joint application with two co-borrowers                                                                                                                \n",
       "4   post charge off collection fee                                                                                                                                                                                      \n",
       "5   Number of collections in 12 months excluding medical collections                                                                                                                                                    \n",
       "6   The number of 30+ days past-due incidences of delinquency in the borrower's credit file for the past 2 years                                                                                                        \n",
       "7   Loan description provided by the borrower                                                                                                                                                                           \n",
       "8   A ratio calculated using the borrower’s total monthly debt payments on the total debt obligations, excluding mortgage and the requested LC loan, divided by the borrower’s self-reported monthly income.            \n",
       "9   A ratio calculated using the co-borrowers' total monthly payments on the total debt obligations, excluding mortgages and the requested LC loan, divided by the co-borrowers' combined self-reported monthly income  \n",
       "10  The month the borrower's earliest reported credit line was opened                                                                                                                                                   \n",
       "11  Employment length in years. Possible values are between 0 and 10 where 0 means less than one year and 10 means ten or more years.                                                                                   \n",
       "12  The job title supplied by the Borrower when applying for the loan.*                                                                                                                                                 \n",
       "13  The upper boundary range the borrower’s FICO at loan origination belongs to.                                                                                                                                        \n",
       "14  The lower boundary range the borrower’s FICO at loan origination belongs to.                                                                                                                                        \n",
       "15  The total amount committed to that loan at that point in time.                                                                                                                                                      \n",
       "16  The total amount committed by investors for that loan at that point in time.                                                                                                                                        \n",
       "17  LC assigned loan grade                                                                                                                                                                                              \n",
       "18  The home ownership status provided by the borrower during registration. Our values are: RENT, OWN, MORTGAGE, OTHER.                                                                                                 \n",
       "19  A unique LC assigned ID for the loan listing.                                                                                                                                                                       \n",
       "20  The initial listing status of the loan. Possible values are – W, F                                                                                                                                                  \n",
       "21  The number of inquiries in past 6 months (excluding auto and mortgage inquiries)                                                                                                                                    \n",
       "22  The monthly payment owed by the borrower if the loan originates.                                                                                                                                                    \n",
       "23  Interest Rate on the loan                                                                                                                                                                                           \n",
       "24  Indicates if income was verified by LC, not verified, or if the income source was verified                                                                                                                          \n",
       "25  The month which the loan was funded                                                                                                                                                                                 \n",
       "26  The most recent month LC pulled credit for this loan                                                                                                                                                                \n",
       "27  The upper boundary range the borrower’s last FICO pulled belongs to.                                                                                                                                                \n",
       "28  The lower boundary range the borrower’s last FICO pulled belongs to.                                                                                                                                                \n",
       "29  Last total payment amount received                                                                                                                                                                                  \n",
       "..                                 ...                                                                                                                                                                                  \n",
       "50  The loan title provided by the borrower                                                                                                                                                                             \n",
       "51  The total number of credit lines currently in the borrower's credit file                                                                                                                                            \n",
       "52  Payments received to date for total amount funded                                                                                                                                                                   \n",
       "53  Payments received to date for portion of total amount funded by investors                                                                                                                                           \n",
       "54  Interest received to date                                                                                                                                                                                           \n",
       "55  Late fees received to date                                                                                                                                                                                          \n",
       "56  Principal received to date                                                                                                                                                                                          \n",
       "57  URL for the LC page with listing data.                                                                                                                                                                              \n",
       "58  Indicates if the co-borrowers' joint income was verified by LC, not verified, or if the income source was verified                                                                                                  \n",
       "59  The first 3 numbers of the zip code provided by the borrower in the loan application.                                                                                                                               \n",
       "60  Number of open trades in last 6 months                                                                                                                                                                              \n",
       "61  Number of currently active installment trades                                                                                                                                                                       \n",
       "62  Number of installment accounts opened in past 12 months                                                                                                                                                             \n",
       "63  Number of installment accounts opened in past 24 months                                                                                                                                                             \n",
       "64  Months since most recent installment accounts opened                                                                                                                                                                \n",
       "65  Total current balance of all installment accounts                                                                                                                                                                   \n",
       "66  Ratio of total current balance to high credit/credit limit on all install acct                                                                                                                                      \n",
       "67  Number of revolving trades opened in past 12 months                                                                                                                                                                 \n",
       "68  Number of revolving trades opened in past 24 months                                                                                                                                                                 \n",
       "69  Maximum current balance owed on all revolving accounts                                                                                                                                                              \n",
       "70  Balance to credit limit on all trades                                                                                                                                                                               \n",
       "71  Total revolving high credit/credit limit                                                                                                                                                                            \n",
       "72  Number of personal finance inquiries                                                                                                                                                                                \n",
       "73  Number of finance trades                                                                                                                                                                                            \n",
       "74  Number of credit inquiries in past 12 months                                                                                                                                                                        \n",
       "75  The number of accounts on which the borrower is now delinquent.                                                                                                                                                     \n",
       "76  Total collection amounts ever owed                                                                                                                                                                                  \n",
       "77  Total current balance of all accounts                                                                                                                                                                               \n",
       "78  NaN                                                                                                                                                                                                                 \n",
       "79  * Employer Title replaces Employer Name for all loans listed after 9/23/2013                                                                                                                                        \n",
       "\n",
       "[80 rows x 2 columns]"
      ]
     },
     "execution_count": 14,
     "metadata": {},
     "output_type": "execute_result"
    }
   ],
   "source": [
    "df_key"
   ]
  },
  {
   "cell_type": "markdown",
   "metadata": {},
   "source": [
    "# Additional Feature Engineering"
   ]
  },
  {
   "cell_type": "code",
   "execution_count": 15,
   "metadata": {
    "collapsed": true
   },
   "outputs": [],
   "source": [
    "df_inv = df_inv[(df_inv.loan_status == 'Fully Paid')\n",
    "                | (df_inv.loan_status == 'Charged Off')\n",
    "                | (df_inv.loan_status == 'Default')]"
   ]
  },
  {
   "cell_type": "code",
   "execution_count": 16,
   "metadata": {
    "collapsed": true
   },
   "outputs": [],
   "source": [
    "df_inv['loan_status'] = df_inv.loan_status.apply(lambda x: 'Fully Paid' \n",
    "                                              if x == 'Fully Paid' \n",
    "                                              else 'Default')"
   ]
  },
  {
   "cell_type": "code",
   "execution_count": 17,
   "metadata": {},
   "outputs": [
    {
     "data": {
      "text/plain": [
       "array(['Fully Paid', 'Default'], dtype=object)"
      ]
     },
     "execution_count": 17,
     "metadata": {},
     "output_type": "execute_result"
    }
   ],
   "source": [
    "df_inv.loan_status.unique()"
   ]
  },
  {
   "cell_type": "code",
   "execution_count": 18,
   "metadata": {
    "collapsed": true
   },
   "outputs": [],
   "source": [
    "df_inv = df_inv[df_inv.revol_util.notnull()]"
   ]
  },
  {
   "cell_type": "code",
   "execution_count": 19,
   "metadata": {
    "collapsed": true
   },
   "outputs": [],
   "source": [
    "df_inv['lc_allocation'] = df_inv.loan_amnt - df_inv.funded_amnt_inv"
   ]
  },
  {
   "cell_type": "code",
   "execution_count": 20,
   "metadata": {
    "collapsed": true
   },
   "outputs": [],
   "source": [
    "df_inv['term'] = pd.to_numeric(df_inv.term.str.strip().str.replace('months',''))"
   ]
  },
  {
   "cell_type": "code",
   "execution_count": 21,
   "metadata": {
    "collapsed": true
   },
   "outputs": [],
   "source": [
    "def yes_no_binary(x):\n",
    "    if (x=='y'):\n",
    "        return 1\n",
    "    if (x=='n'):\n",
    "        return 0"
   ]
  },
  {
   "cell_type": "code",
   "execution_count": 22,
   "metadata": {
    "collapsed": true
   },
   "outputs": [],
   "source": [
    "df_inv['pymnt_plan'] = df_inv['pymnt_plan'].apply(yes_no_binary)"
   ]
  },
  {
   "cell_type": "code",
   "execution_count": 23,
   "metadata": {
    "collapsed": true
   },
   "outputs": [],
   "source": [
    "def whole_fractional_binary(x):\n",
    "    if (x=='w'):\n",
    "        return 1\n",
    "    if (x=='f'):\n",
    "        return 0"
   ]
  },
  {
   "cell_type": "code",
   "execution_count": 24,
   "metadata": {
    "collapsed": true
   },
   "outputs": [],
   "source": [
    "df_inv['initial_list_status'] = df_inv['initial_list_status'].apply(whole_fractional_binary)"
   ]
  },
  {
   "cell_type": "code",
   "execution_count": 25,
   "metadata": {
    "collapsed": true
   },
   "outputs": [],
   "source": [
    "def event_last_year(x):\n",
    "    if (x < 12*1):\n",
    "        return 1\n",
    "    else:\n",
    "        return 0"
   ]
  },
  {
   "cell_type": "code",
   "execution_count": 26,
   "metadata": {
    "collapsed": true
   },
   "outputs": [],
   "source": [
    "def event_last_two_years(x):\n",
    "    if (x < 12*2):\n",
    "        return 1\n",
    "    else:\n",
    "        return 0"
   ]
  },
  {
   "cell_type": "code",
   "execution_count": 27,
   "metadata": {
    "collapsed": true
   },
   "outputs": [],
   "source": [
    "def event_last_five_years(x):\n",
    "    if (x < 12*5):\n",
    "        return 1\n",
    "    else:\n",
    "        return 0"
   ]
  },
  {
   "cell_type": "code",
   "execution_count": 28,
   "metadata": {
    "collapsed": true
   },
   "outputs": [],
   "source": [
    "df_inv['major_derog_within_1'] = df_inv.mths_since_last_major_derog.apply(event_last_year)\n",
    "df_inv['major_derog_within_2'] = df_inv.mths_since_last_major_derog.apply(event_last_two_years)\n",
    "df_inv['major_derog_within_5'] = df_inv.mths_since_last_major_derog.apply(event_last_five_years)"
   ]
  },
  {
   "cell_type": "code",
   "execution_count": 29,
   "metadata": {
    "collapsed": true
   },
   "outputs": [],
   "source": [
    "df_inv['record_within_1'] = df_inv.mths_since_last_record.apply(event_last_year)\n",
    "df_inv['record_within_2'] = df_inv.mths_since_last_record.apply(event_last_two_years)\n",
    "df_inv['record_within_5'] = df_inv.mths_since_last_record.apply(event_last_five_years)"
   ]
  },
  {
   "cell_type": "code",
   "execution_count": 30,
   "metadata": {},
   "outputs": [
    {
     "data": {
      "text/plain": [
       "array(['10+ years', '< 1 year', '3 years', '9 years', '4 years', '5 years',\n",
       "       '1 year', '6 years', '2 years', '7 years', '8 years', 'n/a'], dtype=object)"
      ]
     },
     "execution_count": 30,
     "metadata": {},
     "output_type": "execute_result"
    }
   ],
   "source": [
    "df_inv['emp_length'].unique()"
   ]
  },
  {
   "cell_type": "code",
   "execution_count": 31,
   "metadata": {
    "collapsed": true
   },
   "outputs": [],
   "source": [
    "def emp_length_10_map(x):\n",
    "    if(x == '10+ years'):\n",
    "        return 1\n",
    "    else:\n",
    "        return 0"
   ]
  },
  {
   "cell_type": "code",
   "execution_count": 32,
   "metadata": {
    "collapsed": true
   },
   "outputs": [],
   "source": [
    "def emp_length_5_map(x):\n",
    "    if(x == '10+ years' or x == '9 years' or x == '8 years' \n",
    "       or x == '7 years' or x == '6 years' or x == '5 years'):\n",
    "        return 1\n",
    "    else:\n",
    "        return 0"
   ]
  },
  {
   "cell_type": "code",
   "execution_count": 33,
   "metadata": {
    "collapsed": true
   },
   "outputs": [],
   "source": [
    "def emp_length_1_map(x):\n",
    "    if(x == '< 1 year' or x == 'n/a'):\n",
    "        return 0\n",
    "    else:\n",
    "        return 1"
   ]
  },
  {
   "cell_type": "code",
   "execution_count": 34,
   "metadata": {
    "collapsed": true
   },
   "outputs": [],
   "source": [
    "df_inv['emp_length_greater_1_yr'] = df_inv.emp_length.apply(emp_length_1_map)\n",
    "df_inv['emp_length_greater_5_yrs'] = df_inv.emp_length.apply(emp_length_5_map)\n",
    "df_inv['emp_length_greater_10_yrs'] = df_inv.emp_length.apply(emp_length_10_map)"
   ]
  },
  {
   "cell_type": "code",
   "execution_count": 35,
   "metadata": {
    "collapsed": true
   },
   "outputs": [],
   "source": [
    "df_inv['earliest_cr_line'] = pd.to_datetime(df_inv.earliest_cr_line,format='%b-%Y')\n",
    "df_inv['issue_d'] = pd.to_datetime(df_inv.issue_d,format='%b-%Y')"
   ]
  },
  {
   "cell_type": "code",
   "execution_count": 36,
   "metadata": {
    "collapsed": true
   },
   "outputs": [],
   "source": [
    "df_inv['earliest_cr_line_delta'] = (df_inv.issue_d - df_inv.earliest_cr_line) / np.timedelta64(1, 'D')"
   ]
  },
  {
   "cell_type": "code",
   "execution_count": 37,
   "metadata": {
    "collapsed": true
   },
   "outputs": [],
   "source": [
    "grades_df = patsy.dmatrix('grade',data=df_inv,return_type='dataframe')\n",
    "grades_columns = ['grade_intercept',\n",
    "                  'B_grade',\n",
    "                  'C_grade',\n",
    "                  'D_grade',\n",
    "                  'E_grade',\n",
    "                  'F_grade',\n",
    "                  'G_grade']\n",
    "grades_df.columns = grades_columns"
   ]
  },
  {
   "cell_type": "code",
   "execution_count": 38,
   "metadata": {
    "collapsed": true
   },
   "outputs": [],
   "source": [
    "df_inv = df_inv.join(grades_df)"
   ]
  },
  {
   "cell_type": "code",
   "execution_count": 39,
   "metadata": {
    "collapsed": true
   },
   "outputs": [],
   "source": [
    "home_ownership_df = patsy.dmatrix('home_ownership',data=df_inv,return_type='dataframe')\n",
    "home_ownership_columns = ['home_ownership_intercept',\n",
    "                          'home_ownership_mortgage',\n",
    "                          'home_ownership_none',\n",
    "                          'home_ownership_other',\n",
    "                          'home_ownership_own',\n",
    "                          'home_ownership_rent']\n",
    "home_ownership_df.columns = home_ownership_columns"
   ]
  },
  {
   "cell_type": "code",
   "execution_count": 40,
   "metadata": {
    "collapsed": true
   },
   "outputs": [],
   "source": [
    "df_inv = df_inv.join(home_ownership_df)"
   ]
  },
  {
   "cell_type": "code",
   "execution_count": 41,
   "metadata": {
    "collapsed": true
   },
   "outputs": [],
   "source": [
    "verification_df = patsy.dmatrix('verification_status',data=df_inv,return_type='dataframe')\n",
    "verification_columns = ['verification_intercept',\n",
    "                        'source_verified',\n",
    "                        'verified']\n",
    "verification_df.columns = verification_columns"
   ]
  },
  {
   "cell_type": "code",
   "execution_count": 42,
   "metadata": {
    "collapsed": true
   },
   "outputs": [],
   "source": [
    "df_inv = df_inv.join(verification_df)"
   ]
  },
  {
   "cell_type": "code",
   "execution_count": 43,
   "metadata": {},
   "outputs": [
    {
     "data": {
      "text/plain": [
       "\"emp_length_df = patsy.dmatrix('emp_length',data=df_inv,return_type='dataframe')\\nemp_length_columns = ['emp_length_intercept', \\n                      'emp_length_greater_10_yrs',\\n                      'emp_length_2_yrs',\\n                      'emp_length_3_yrs',\\n                      'emp_length_4_yrs',\\n                      'emp_length_5_yrs',\\n                      'emp_length_6_yrs',\\n                      'emp_length_7_yrs',\\n                      'emp_length_8_yrs',\\n                      'emp_length_9_yrs', \\n                      'emp_length_less_1_yr',\\n                      'emp_length_n/a]']\\nemp_length_df.columns = emp_length_columns\""
      ]
     },
     "execution_count": 43,
     "metadata": {},
     "output_type": "execute_result"
    }
   ],
   "source": [
    "\"\"\"emp_length_df = patsy.dmatrix('emp_length',data=df_inv,return_type='dataframe')\n",
    "emp_length_columns = ['emp_length_intercept', \n",
    "                      'emp_length_greater_10_yrs',\n",
    "                      'emp_length_2_yrs',\n",
    "                      'emp_length_3_yrs',\n",
    "                      'emp_length_4_yrs',\n",
    "                      'emp_length_5_yrs',\n",
    "                      'emp_length_6_yrs',\n",
    "                      'emp_length_7_yrs',\n",
    "                      'emp_length_8_yrs',\n",
    "                      'emp_length_9_yrs', \n",
    "                      'emp_length_less_1_yr',\n",
    "                      'emp_length_n/a]']\n",
    "emp_length_df.columns = emp_length_columns\"\"\""
   ]
  },
  {
   "cell_type": "code",
   "execution_count": 44,
   "metadata": {},
   "outputs": [
    {
     "data": {
      "text/plain": [
       "'df_inv = df_inv.join(emp_length_df)'"
      ]
     },
     "execution_count": 44,
     "metadata": {},
     "output_type": "execute_result"
    }
   ],
   "source": [
    "\"\"\"df_inv = df_inv.join(emp_length_df)\"\"\""
   ]
  },
  {
   "cell_type": "markdown",
   "metadata": {},
   "source": [
    "BF NOTE: Try outstanding principal LC allocation if in need of additional features"
   ]
  },
  {
   "cell_type": "markdown",
   "metadata": {},
   "source": [
    "# End Additional Feature Engineering"
   ]
  },
  {
   "cell_type": "code",
   "execution_count": 45,
   "metadata": {
    "collapsed": true
   },
   "outputs": [],
   "source": [
    "X = df_inv[['loan_amnt',\n",
    "            'lc_allocation',\n",
    "            'term',\n",
    "            'int_rate',\n",
    "            'installment',\n",
    "            'grade_intercept',\n",
    "            'B_grade',\n",
    "            'C_grade',\n",
    "            'D_grade',\n",
    "            'E_grade',\n",
    "            'F_grade',\n",
    "            'emp_length_greater_1_yr',\n",
    "            'emp_length_greater_5_yrs',\n",
    "            'emp_length_greater_10_yrs',\n",
    "            'home_ownership_intercept',\n",
    "            'home_ownership_mortgage',\n",
    "            'home_ownership_none',\n",
    "            'home_ownership_other',\n",
    "            'home_ownership_own',\n",
    "            'home_ownership_rent',\n",
    "            'annual_inc',\n",
    "            'verification_intercept',\n",
    "            'source_verified',\n",
    "            'verified',\n",
    "            'pymnt_plan',\n",
    "            'dti',\n",
    "            'delinq_2yrs',\n",
    "            'earliest_cr_line_delta',\n",
    "            'inq_last_6mths',\n",
    "            'record_within_1',\n",
    "            'record_within_2',\n",
    "            'record_within_5',\n",
    "            'open_acc',\n",
    "            'pub_rec',\n",
    "            'revol_bal',\n",
    "            'revol_util',\n",
    "            'total_acc',\n",
    "            'initial_list_status',\n",
    "            'out_prncp',\n",
    "            'major_derog_within_1',\n",
    "            'major_derog_within_2',\n",
    "            'major_derog_within_5']]\n",
    "y = df_inv.loan_status.values.ravel()\n",
    "X_train, X_test, y_train, y_test = train_test_split(X,y,test_size=0.3)"
   ]
  },
  {
   "cell_type": "code",
   "execution_count": 46,
   "metadata": {},
   "outputs": [],
   "source": [
    "logr = LogisticRegression()"
   ]
  },
  {
   "cell_type": "code",
   "execution_count": 47,
   "metadata": {
    "collapsed": true
   },
   "outputs": [],
   "source": [
    "models = [LogisticRegression(),\n",
    "          GaussianNB(),\n",
    "          SVC(probability=True),\n",
    "          DecisionTreeClassifier(),\n",
    "          RandomForestClassifier()]\n",
    "model_names = ['KNN', 'Logistic', 'Naive Bayes', 'SVM', 'Decision Tree', 'Random Forest']"
   ]
  },
  {
   "cell_type": "code",
   "execution_count": 3,
   "metadata": {
    "collapsed": true
   },
   "outputs": [],
   "source": [
    "logr = LogisticRegression()"
   ]
  },
  {
   "cell_type": "code",
   "execution_count": 48,
   "metadata": {},
   "outputs": [
    {
     "data": {
      "text/plain": [
       "LogisticRegression(C=1.0, class_weight=None, dual=False, fit_intercept=True,\n",
       "          intercept_scaling=1, max_iter=100, multi_class='ovr', n_jobs=1,\n",
       "          penalty='l2', random_state=None, solver='liblinear', tol=0.0001,\n",
       "          verbose=0, warm_start=False)"
      ]
     },
     "execution_count": 48,
     "metadata": {},
     "output_type": "execute_result"
    }
   ],
   "source": [
    "logr.fit(X_train,y_train)"
   ]
  },
  {
   "cell_type": "code",
   "execution_count": null,
   "metadata": {
    "collapsed": true
   },
   "outputs": [],
   "source": []
  },
  {
   "cell_type": "code",
   "execution_count": null,
   "metadata": {
    "collapsed": true
   },
   "outputs": [],
   "source": [
    "accuracy_df = pd.DataFrame({'accuracy':accuracy, \n",
    "                            'precision_default':precision_default, \n",
    "                            'precision_fully_paid':precision_fully_paid,\n",
    "                            'recall_default':recall_default, \n",
    "                            'recall_fully_paid':recall_fully_paid, \n",
    "                            'f1_default':f1_default, \n",
    "                            'f1_fully_paid':f1_fully_paid})\n",
    "accuracy_df.set_index([model_names])"
   ]
  }
 ],
 "metadata": {
  "kernelspec": {
   "display_name": "Python 3",
   "language": "python",
   "name": "python3"
  },
  "language_info": {
   "codemirror_mode": {
    "name": "ipython",
    "version": 3
   },
   "file_extension": ".py",
   "mimetype": "text/x-python",
   "name": "python",
   "nbconvert_exporter": "python",
   "pygments_lexer": "ipython3",
   "version": "3.6.1"
  }
 },
 "nbformat": 4,
 "nbformat_minor": 2
}
