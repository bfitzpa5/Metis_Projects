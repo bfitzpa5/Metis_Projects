{
 "cells": [
  {
   "cell_type": "markdown",
   "metadata": {},
   "source": [
    "# Lending Club Loan Data Modeling\n",
    "\n",
    "In this section we will attempt to determine the best model to predict whether or not a borrower will default in the Lending Club Loan data.\n",
    "\n",
    "Before beginning, we'll define our **_Satisficing_** and **_Optimizing_** metrics. Andrew Ng recommends outlining these before beginning in the _deeplearning.ai_ course named _Structuring Machine Learning Projects_.\n",
    "\n",
    "After, we'll get down and dirty with some data cleaning to get this dataset in tip-top shape and ready to be modeled.\n",
    "\n",
    "We then start the modeling, beginning with a **_Logistic Regresion_** model, using **_Forward Selection_** to determine the features. We will then try a **_K-Nearest Neighbors Classifier_** and end with a **_Random Forest_** and some hyperparameter tuning. \n",
    "\n",
    "After we'll wrap it all up with a summary of what we have learned.\n",
    "\n",
    "First though, let's do our usual import of a billions packages so we're ready to machine learn."
   ]
  },
  {
   "cell_type": "code",
   "execution_count": 3,
   "metadata": {},
   "outputs": [],
   "source": [
    "import os\n",
    "import pandas as pd\n",
    "import numpy as np\n",
    "import re\n",
    "import itertools\n",
    "from sklearn.pipeline import FeatureUnion, Pipeline\n",
    "from sklearn.model_selection import train_test_split, GridSearchCV\n",
    "from sklearn.linear_model import LogisticRegression\n",
    "import mcnulty_util as mcu"
   ]
  },
  {
   "cell_type": "code",
   "execution_count": 4,
   "metadata": {},
   "outputs": [
    {
     "name": "stdout",
     "output_type": "stream",
     "text": [
      "Initiating MAXIMUM data munging power\n",
      "Luther Preprocessing Successful Woo Woo!\n",
      "\n"
     ]
    }
   ],
   "source": [
    "df = mcu.mcnulty_preprocessing()"
   ]
  },
  {
   "cell_type": "code",
   "execution_count": 20,
   "metadata": {},
   "outputs": [
    {
     "name": "stdout",
     "output_type": "stream",
     "text": [
      "<table border=\"1\" class=\"dataframe\">\n",
      "  <thead>\n",
      "    <tr style=\"text-align: right;\">\n",
      "      <th></th>\n",
      "      <th>Gross Count</th>\n",
      "      <th>Percentage of Total</th>\n",
      "    </tr>\n",
      "  </thead>\n",
      "  <tbody>\n",
      "    <tr>\n",
      "      <th>0</th>\n",
      "      <td>207,721</td>\n",
      "      <td>78.16%</td>\n",
      "    </tr>\n",
      "    <tr>\n",
      "      <th>1</th>\n",
      "      <td>58,056</td>\n",
      "      <td>21.84%</td>\n",
      "    </tr>\n",
      "  </tbody>\n",
      "</table>\n"
     ]
    }
   ],
   "source": [
    "gross_counts = df.default.value_counts()\n",
    "normalized_counts = df.default.value_counts(normalize=True)\n",
    "df_counts = pd.concat([gross_counts, normalized_counts], axis=1)             \n",
    "df_counts.columns = ['Gross Count', 'Percentage of Total']\n",
    "df_counts.loc[:, 'Gross Count'] = df_counts.loc[:, 'Gross Count'].map('{:,d}'.format)\n",
    "df_counts.loc[:, 'Percentage of Total'] = df_counts.loc[:, 'Percentage of Total'].map('{:0.2%}'.format)\n",
    "print(df_counts.to_html())"
   ]
  },
  {
   "cell_type": "code",
   "execution_count": 14,
   "metadata": {},
   "outputs": [
    {
     "data": {
      "text/html": [
       "<div>\n",
       "<style scoped>\n",
       "    .dataframe tbody tr th:only-of-type {\n",
       "        vertical-align: middle;\n",
       "    }\n",
       "\n",
       "    .dataframe tbody tr th {\n",
       "        vertical-align: top;\n",
       "    }\n",
       "\n",
       "    .dataframe thead th {\n",
       "        text-align: right;\n",
       "    }\n",
       "</style>\n",
       "<table border=\"1\" class=\"dataframe\">\n",
       "  <thead>\n",
       "    <tr style=\"text-align: right;\">\n",
       "      <th></th>\n",
       "      <th>Gross Count</th>\n",
       "      <th>Percentage_Count</th>\n",
       "    </tr>\n",
       "  </thead>\n",
       "  <tbody>\n",
       "    <tr>\n",
       "      <td>0</td>\n",
       "      <td>207721</td>\n",
       "      <td>0.781561</td>\n",
       "    </tr>\n",
       "    <tr>\n",
       "      <td>1</td>\n",
       "      <td>58056</td>\n",
       "      <td>0.218439</td>\n",
       "    </tr>\n",
       "  </tbody>\n",
       "</table>\n",
       "</div>"
      ],
      "text/plain": [
       "   Gross Count  Percentage_Count\n",
       "0       207721          0.781561\n",
       "1        58056          0.218439"
      ]
     },
     "execution_count": 14,
     "metadata": {},
     "output_type": "execute_result"
    }
   ],
   "source": [
    "df_counts"
   ]
  },
  {
   "cell_type": "code",
   "execution_count": 5,
   "metadata": {},
   "outputs": [],
   "source": [
    "independents = [\n",
    "    ['dti'],\n",
    "    ['int_rate'],\n",
    "    ['annual_inc'],\n",
    "    ['loan_amnt'],\n",
    "    ['revol_bal'],\n",
    "    ['term'],\n",
    "    ['delinq_2yrs'],\n",
    "    ['home_ownership'],\n",
    "    ['grade'],\n",
    "    ['purpose'],\n",
    "    ['emp_length']]\n",
    "dependent = 'default'"
   ]
  },
  {
   "cell_type": "markdown",
   "metadata": {},
   "source": [
    "<a id=\"#log_reg_hyperparams\"></a>\n",
    "## Hyperparameter Tuning with Grid Search"
   ]
  },
  {
   "cell_type": "code",
   "execution_count": 8,
   "metadata": {},
   "outputs": [
    {
     "data": {
      "text/plain": [
       "GridSearchCV(cv=5, error_score='raise-deprecating',\n",
       "             estimator=Pipeline(memory=None,\n",
       "                                steps=[('union',\n",
       "                                        FeatureUnion(n_jobs=None,\n",
       "                                                     transformer_list=[('numeric',\n",
       "                                                                        Pipeline(memory=None,\n",
       "                                                                                 steps=[('selector',\n",
       "                                                                                         ItemSelector(key=['dti',\n",
       "                                                                                                           'int_rate',\n",
       "                                                                                                           'delinq_2yrs',\n",
       "                                                                                                           'revol_bal',\n",
       "                                                                                                           'loan_amnt'])),\n",
       "                                                                                        ('poly',\n",
       "                                                                                         PolynomialFeatures(degree=2,\n",
       "                                                                                                            include_bias=False,\n",
       "                                                                                                            interaction_only=False,\n",
       "                                                                                                            order...\n",
       "                                                1: 0.3342105263157895},\n",
       "                                               {0: 0.7131578947368421,\n",
       "                                                1: 0.2868421052631579},\n",
       "                                               {0: 0.7605263157894736,\n",
       "                                                1: 0.2394736842105264},\n",
       "                                               {0: 0.8078947368421052,\n",
       "                                                1: 0.19210526315789478},\n",
       "                                               {0: 0.8552631578947368,\n",
       "                                                1: 0.14473684210526316},\n",
       "                                               {0: 0.9026315789473683,\n",
       "                                                1: 0.09736842105263166},\n",
       "                                               {0: 0.95,\n",
       "                                                1: 0.050000000000000044}]},\n",
       "             pre_dispatch='2*n_jobs', refit=True, return_train_score=False,\n",
       "             scoring='f1', verbose=0)"
      ]
     },
     "execution_count": 8,
     "metadata": {},
     "output_type": "execute_result"
    }
   ],
   "source": [
    "features = ['dti', 'int_rate', 'emp_length', 'home_ownership', 'purpose',\n",
    "            'delinq_2yrs','revol_bal', 'loan_amnt', 'grade', 'term']\n",
    "degree = 2\n",
    "X, y = df.loc[:, features], df.loc[:, dependent]\n",
    "X_train, X_test, y_train, y_test = train_test_split(X, y, test_size=0.2, random_state=11,\n",
    "                                                    stratify=y)\n",
    "pipeline = mcu.clf_pipeline(LogisticRegression(), features, degree)\n",
    "weight_space = np.linspace(0.05, 0.95, 20)\n",
    "class_weights = [{0: x, 1: 1.0-x} for x in weight_space]\n",
    "hyperparameters = dict(clf__class_weight=class_weights)\n",
    "gs = GridSearchCV(pipeline, hyperparameters, scoring='f1', cv=5)\n",
    "gs.fit(X_train, y_train)"
   ]
  },
  {
   "cell_type": "code",
   "execution_count": 15,
   "metadata": {},
   "outputs": [
    {
     "name": "stdout",
     "output_type": "stream",
     "text": [
      "Best Class Weights:\n",
      "   clf__class_weight\n",
      "0           0.239474\n",
      "1           0.760526\n"
     ]
    }
   ],
   "source": [
    "print(\"Best Class Weights:\\n{}\".format(pd.DataFrame(gs.best_params_)))"
   ]
  },
  {
   "cell_type": "code",
   "execution_count": 17,
   "metadata": {},
   "outputs": [
    {
     "name": "stdout",
     "output_type": "stream",
     "text": [
      "<table border=\"1\" class=\"dataframe\">\n",
      "  <thead>\n",
      "    <tr style=\"text-align: right;\">\n",
      "      <th></th>\n",
      "      <th>clf__class_weight</th>\n",
      "    </tr>\n",
      "  </thead>\n",
      "  <tbody>\n",
      "    <tr>\n",
      "      <th>0</th>\n",
      "      <td>0.239474</td>\n",
      "    </tr>\n",
      "    <tr>\n",
      "      <th>1</th>\n",
      "      <td>0.760526</td>\n",
      "    </tr>\n",
      "  </tbody>\n",
      "</table>\n"
     ]
    }
   ],
   "source": [
    "print(pd.DataFrame(gs.best_params_).to_html())"
   ]
  }
 ],
 "metadata": {
  "kernelspec": {
   "display_name": "Python 3",
   "language": "python",
   "name": "python3"
  },
  "language_info": {
   "codemirror_mode": {
    "name": "ipython",
    "version": 3
   },
   "file_extension": ".py",
   "mimetype": "text/x-python",
   "name": "python",
   "nbconvert_exporter": "python",
   "pygments_lexer": "ipython3",
   "version": "3.7.3"
  }
 },
 "nbformat": 4,
 "nbformat_minor": 2
}
