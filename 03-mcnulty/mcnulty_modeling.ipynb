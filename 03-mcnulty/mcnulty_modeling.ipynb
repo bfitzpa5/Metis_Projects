{
 "cells": [
  {
   "cell_type": "markdown",
   "metadata": {},
   "source": [
    "# Lending Club Loan Data Modeling\n",
    "\n",
    "In this section we will attempt to determine the best model to predict whether or not a borrower will default in the Lending Club Loan data.\n",
    "\n",
    "Before beginning, we'll define our **_Satisficing_** and **_Optimizing_** metrics. Andrew Ng recommends outlining these before beginning in the _deeplearning.ai_ course named _Structuring Machine Learning Projects_.\n",
    "\n",
    "After, we'll get down and dirty with some data cleaning to get this dataset in tip-top shape and ready to be modeled.\n",
    "\n",
    "We then start the modeling, beginning with a **_Logistic Regresion_** model, using **_Forward Selection_** to determine the features. We will then try a **_K-Nearest Neighbors Classifier_** and end with a **_Random Forest_** and some hyperparameter tuning. \n",
    "\n",
    "After we'll wrap it all up with a summary of what we have learned.\n",
    "\n",
    "First though, let's do our usual import of a billions packages so we're ready to machine learn."
   ]
  },
  {
   "cell_type": "code",
   "execution_count": 5,
   "metadata": {},
   "outputs": [],
   "source": [
    "import os\n",
    "import pandas as pd\n",
    "import numpy as np\n",
    "import re\n",
    "import itertools\n",
    "from sklearn.preprocessing import PolynomialFeatures, OneHotEncoder, StandardScaler\n",
    "from sklearn.feature_extraction.text import CountVectorizer\n",
    "from sklearn.pipeline import FeatureUnion, Pipeline\n",
    "from sklearn.model_selection import train_test_split, cross_val_score, KFold, GridSearchCV\n",
    "from sklearn.linear_model import LogisticRegression\n",
    "from sklearn.neighbors import KNeighborsClassifier\n",
    "from sklearn.ensemble import RandomForestClassifier\n",
    "from sklearn import metrics\n",
    "import mcnulty_util as mcu"
   ]
  },
  {
   "cell_type": "code",
   "execution_count": 6,
   "metadata": {},
   "outputs": [
    {
     "name": "stdout",
     "output_type": "stream",
     "text": [
      "The autoreload extension is already loaded. To reload it, use:\n",
      "  %reload_ext autoreload\n"
     ]
    }
   ],
   "source": [
    "import warnings\n",
    "warnings.filterwarnings('ignore')\n",
    "%load_ext autoreload\n",
    "%autoreload 2"
   ]
  },
  {
   "cell_type": "markdown",
   "metadata": {},
   "source": [
    "# Table of Contents\n",
    "\n",
    "1. [Project Goals](#project_goals)\n",
    "2. [Data Cleaning](#data_cleaning)\n",
    "3. [Logistic Regressions](#log_reg)\n",
    "    1. [Single Feature](#log_reg_one)\n",
    "    2. [Multiple Features](#log_reg_mult)\n",
    "    3. [Visualization of Best Model](#log_reg_viz)\n",
    "    4. [Hyperparameter Tuning with Grid Search](#log_reg_hyperparams)\n",
    "4. [K-Nearest Neighbors](#knn)\n",
    "5. [Random Forest](#rf)"
   ]
  },
  {
   "cell_type": "markdown",
   "metadata": {},
   "source": [
    "<a id=\"project_goals\"></a>\n",
    "# Project Goals"
   ]
  },
  {
   "cell_type": "markdown",
   "metadata": {},
   "source": [
    "Our goals is to provide investors with a model that allows them to invest in loans with a high confidence that the borrower will not default. This will minimize losses to that investor by making sure their prinicpal is secure.\n",
    "\n",
    "As we our cautious investors, we want our model to predict default if it is not confident either way. To do this we will optimize **_Recall_**, also known as the **_True Positive Rate_**, which is defined as follows:\n",
    "\n",
    "\\begin{equation*}\n",
    "Recall = True\\ Positive\\ Rate = \\frac{TP} {TP + FN}\n",
    "\\end{equation*}\n",
    "\n",
    "\\begin{equation*}\n",
    "TP = Number\\ of\\ True\\ Positives\n",
    "\\end{equation*}\n",
    "\n",
    "\\begin{equation*}\n",
    "FP = Number\\ of\\ False\\ Negatives\n",
    "\\end{equation*}\n",
    "\n",
    "**_Recall_** is a measure of a classifiers **_completeness_**. \n",
    "In this instance, recall measures how many of the defaulters we predicted defaulted.\n",
    "\n",
    "However, if we optimize too much towards recall we will end up predicting default the whole time. \n",
    "This will give us 100% recall, but not a good model. \n",
    "To avoid this we'll also include **_precision_**. \n",
    "**_Precision_**, also known as the **_Positive Predictive Value._**, is defined as follows:\n",
    "\n",
    "\\begin{equation*}\n",
    "Precision = Positive\\ Predictive\\ Value = \\frac{TP} {TP + FP}\n",
    "\\end{equation*}\n",
    "\n",
    "\\begin{equation*}\n",
    "TP = Number\\ of\\ True\\ Positives\n",
    "\\end{equation*}\n",
    "\n",
    "\\begin{equation*}\n",
    "FP = Number\\ of\\ False\\ Positives\n",
    "\\end{equation*}\n",
    "\n",
    "\n",
    "Since we want to balance precision and recall, we'll use the **_F1 Score_**, which is the harmonic mean of the two.\n",
    "\n",
    "This means **_F1 Score_** will be our optimizing metric. We'll want to find a model with above 80% precision as a satisficing metric.\n",
    "\n",
    "Before we get to that, let's get down and dirty with some data cleaning."
   ]
  },
  {
   "cell_type": "markdown",
   "metadata": {},
   "source": [
    "<a id=\"data_cleaning\"></a>\n",
    "# Data Cleaning\n",
    "\n",
    "I have moved our data cleaning to the _mcnulty_util.py_ model to keep modularity. \n",
    "\n",
    "In this function, we filter out loan status' that don't apply per the EDA file. We also subsetted the columns."
   ]
  },
  {
   "cell_type": "code",
   "execution_count": 7,
   "metadata": {},
   "outputs": [
    {
     "name": "stdout",
     "output_type": "stream",
     "text": [
      "Initiating MAXIMUM data munging power\n",
      "Luther Preprocessing Successful Woo Woo!\n",
      "\n"
     ]
    }
   ],
   "source": [
    "df = mcu.mcnulty_preprocessing()"
   ]
  },
  {
   "cell_type": "markdown",
   "metadata": {},
   "source": [
    "<a id=\"log_reg\"></a>\n",
    "# Logistic Regression"
   ]
  },
  {
   "cell_type": "markdown",
   "metadata": {},
   "source": [
    "<a id=\"log_reg_one\"></a>\n",
    "## Single Feature Models"
   ]
  },
  {
   "cell_type": "code",
   "execution_count": 4,
   "metadata": {},
   "outputs": [],
   "source": [
    "independents = [\n",
    "    ['dti'],\n",
    "    ['int_rate'],\n",
    "    ['annual_inc'],\n",
    "    ['loan_amnt'],\n",
    "    ['revol_bal'],\n",
    "    ['term'],\n",
    "    ['delinq_2yrs'],\n",
    "    ['home_ownership'],\n",
    "    ['grade'],\n",
    "    ['purpose'],\n",
    "    ['emp_length']]\n",
    "dependent = 'default'"
   ]
  },
  {
   "cell_type": "code",
   "execution_count": 5,
   "metadata": {},
   "outputs": [
    {
     "ename": "ValueError",
     "evalue": "Solver lbfgs supports only 'l2' or 'none' penalties, got l1 penalty.",
     "output_type": "error",
     "traceback": [
      "\u001b[1;31m---------------------------------------------------------------------------\u001b[0m",
      "\u001b[1;31mValueError\u001b[0m                                Traceback (most recent call last)",
      "\u001b[1;32m<ipython-input-5-83625240316e>\u001b[0m in \u001b[0;36m<module>\u001b[1;34m\u001b[0m\n\u001b[0;32m     12\u001b[0m             \u001b[1;32mif\u001b[0m \u001b[0mdegree\u001b[0m \u001b[1;33m==\u001b[0m \u001b[1;36m1\u001b[0m\u001b[1;33m:\u001b[0m\u001b[1;33m\u001b[0m\u001b[1;33m\u001b[0m\u001b[0m\n\u001b[0;32m     13\u001b[0m                 \u001b[0mLogisticRegression\u001b[0m\u001b[1;33m(\u001b[0m\u001b[0mC\u001b[0m\u001b[1;33m=\u001b[0m\u001b[1;36m1000000\u001b[0m\u001b[1;33m,\u001b[0m \u001b[0mpenalty\u001b[0m\u001b[1;33m=\u001b[0m\u001b[1;34m'l1'\u001b[0m\u001b[1;33m)\u001b[0m\u001b[1;33m\u001b[0m\u001b[1;33m\u001b[0m\u001b[0m\n\u001b[1;32m---> 14\u001b[1;33m                 \u001b[0mrecord\u001b[0m \u001b[1;33m=\u001b[0m \u001b[0mmcu\u001b[0m\u001b[1;33m.\u001b[0m\u001b[0mlog_clf_model\u001b[0m\u001b[1;33m(\u001b[0m\u001b[0mclf\u001b[0m\u001b[1;33m,\u001b[0m \u001b[1;34m'Logistic Regression'\u001b[0m\u001b[1;33m,\u001b[0m \u001b[0mX\u001b[0m\u001b[1;33m,\u001b[0m \u001b[0my\u001b[0m\u001b[1;33m,\u001b[0m \u001b[0mvariable\u001b[0m\u001b[1;33m)\u001b[0m\u001b[1;33m\u001b[0m\u001b[1;33m\u001b[0m\u001b[0m\n\u001b[0m\u001b[0;32m     15\u001b[0m                 \u001b[0mresults\u001b[0m\u001b[1;33m.\u001b[0m\u001b[0mappend\u001b[0m\u001b[1;33m(\u001b[0m\u001b[0mrecord\u001b[0m\u001b[1;33m)\u001b[0m\u001b[1;33m\u001b[0m\u001b[1;33m\u001b[0m\u001b[0m\n\u001b[0;32m     16\u001b[0m             \u001b[1;32melse\u001b[0m\u001b[1;33m:\u001b[0m\u001b[1;33m\u001b[0m\u001b[1;33m\u001b[0m\u001b[0m\n",
      "\u001b[1;32m~\\Documents\\GitHub\\Metis_Projects\\03-mcnulty\\mcnulty_util.py\u001b[0m in \u001b[0;36mlog_clf_model\u001b[1;34m(model, model_type, X, y, features, degree)\u001b[0m\n\u001b[0;32m     77\u001b[0m     X_train, X_test, y_train, y_test = train_test_split(X, y, test_size=0.2, random_state=11,\n\u001b[0;32m     78\u001b[0m                                                         stratify=y)\n\u001b[1;32m---> 79\u001b[1;33m     \u001b[0mmodel\u001b[0m\u001b[1;33m.\u001b[0m\u001b[0mfit\u001b[0m\u001b[1;33m(\u001b[0m\u001b[0mX_train\u001b[0m\u001b[1;33m,\u001b[0m \u001b[0my_train\u001b[0m\u001b[1;33m)\u001b[0m\u001b[1;33m\u001b[0m\u001b[1;33m\u001b[0m\u001b[0m\n\u001b[0m\u001b[0;32m     80\u001b[0m     \u001b[0mtrain_accuracy\u001b[0m \u001b[1;33m=\u001b[0m \u001b[0mmodel\u001b[0m\u001b[1;33m.\u001b[0m\u001b[0mscore\u001b[0m\u001b[1;33m(\u001b[0m\u001b[0mX_train\u001b[0m\u001b[1;33m,\u001b[0m \u001b[0my_train\u001b[0m\u001b[1;33m)\u001b[0m\u001b[1;33m\u001b[0m\u001b[1;33m\u001b[0m\u001b[0m\n\u001b[0;32m     81\u001b[0m     \u001b[0mtest_accuracy\u001b[0m \u001b[1;33m=\u001b[0m \u001b[0mmodel\u001b[0m\u001b[1;33m.\u001b[0m\u001b[0mscore\u001b[0m\u001b[1;33m(\u001b[0m\u001b[0mX_test\u001b[0m\u001b[1;33m,\u001b[0m \u001b[0my_test\u001b[0m\u001b[1;33m)\u001b[0m\u001b[1;33m\u001b[0m\u001b[1;33m\u001b[0m\u001b[0m\n",
      "\u001b[1;32m~\\Anaconda3\\lib\\site-packages\\sklearn\\linear_model\\_logistic.py\u001b[0m in \u001b[0;36mfit\u001b[1;34m(self, X, y, sample_weight)\u001b[0m\n\u001b[0;32m   1486\u001b[0m         \u001b[0mThe\u001b[0m \u001b[0mSAGA\u001b[0m \u001b[0msolver\u001b[0m \u001b[0msupports\u001b[0m \u001b[0mboth\u001b[0m \u001b[0mfloat64\u001b[0m \u001b[1;32mand\u001b[0m \u001b[0mfloat32\u001b[0m \u001b[0mbit\u001b[0m \u001b[0marrays\u001b[0m\u001b[1;33m.\u001b[0m\u001b[1;33m\u001b[0m\u001b[1;33m\u001b[0m\u001b[0m\n\u001b[0;32m   1487\u001b[0m         \"\"\"\n\u001b[1;32m-> 1488\u001b[1;33m         \u001b[0msolver\u001b[0m \u001b[1;33m=\u001b[0m \u001b[0m_check_solver\u001b[0m\u001b[1;33m(\u001b[0m\u001b[0mself\u001b[0m\u001b[1;33m.\u001b[0m\u001b[0msolver\u001b[0m\u001b[1;33m,\u001b[0m \u001b[0mself\u001b[0m\u001b[1;33m.\u001b[0m\u001b[0mpenalty\u001b[0m\u001b[1;33m,\u001b[0m \u001b[0mself\u001b[0m\u001b[1;33m.\u001b[0m\u001b[0mdual\u001b[0m\u001b[1;33m)\u001b[0m\u001b[1;33m\u001b[0m\u001b[1;33m\u001b[0m\u001b[0m\n\u001b[0m\u001b[0;32m   1489\u001b[0m \u001b[1;33m\u001b[0m\u001b[0m\n\u001b[0;32m   1490\u001b[0m         \u001b[1;32mif\u001b[0m \u001b[1;32mnot\u001b[0m \u001b[0misinstance\u001b[0m\u001b[1;33m(\u001b[0m\u001b[0mself\u001b[0m\u001b[1;33m.\u001b[0m\u001b[0mC\u001b[0m\u001b[1;33m,\u001b[0m \u001b[0mnumbers\u001b[0m\u001b[1;33m.\u001b[0m\u001b[0mNumber\u001b[0m\u001b[1;33m)\u001b[0m \u001b[1;32mor\u001b[0m \u001b[0mself\u001b[0m\u001b[1;33m.\u001b[0m\u001b[0mC\u001b[0m \u001b[1;33m<\u001b[0m \u001b[1;36m0\u001b[0m\u001b[1;33m:\u001b[0m\u001b[1;33m\u001b[0m\u001b[1;33m\u001b[0m\u001b[0m\n",
      "\u001b[1;32m~\\Anaconda3\\lib\\site-packages\\sklearn\\linear_model\\_logistic.py\u001b[0m in \u001b[0;36m_check_solver\u001b[1;34m(solver, penalty, dual)\u001b[0m\n\u001b[0;32m    443\u001b[0m     \u001b[1;32mif\u001b[0m \u001b[0msolver\u001b[0m \u001b[1;32mnot\u001b[0m \u001b[1;32min\u001b[0m \u001b[1;33m[\u001b[0m\u001b[1;34m'liblinear'\u001b[0m\u001b[1;33m,\u001b[0m \u001b[1;34m'saga'\u001b[0m\u001b[1;33m]\u001b[0m \u001b[1;32mand\u001b[0m \u001b[0mpenalty\u001b[0m \u001b[1;32mnot\u001b[0m \u001b[1;32min\u001b[0m \u001b[1;33m(\u001b[0m\u001b[1;34m'l2'\u001b[0m\u001b[1;33m,\u001b[0m \u001b[1;34m'none'\u001b[0m\u001b[1;33m)\u001b[0m\u001b[1;33m:\u001b[0m\u001b[1;33m\u001b[0m\u001b[1;33m\u001b[0m\u001b[0m\n\u001b[0;32m    444\u001b[0m         raise ValueError(\"Solver %s supports only 'l2' or 'none' penalties, \"\n\u001b[1;32m--> 445\u001b[1;33m                          \"got %s penalty.\" % (solver, penalty))\n\u001b[0m\u001b[0;32m    446\u001b[0m     \u001b[1;32mif\u001b[0m \u001b[0msolver\u001b[0m \u001b[1;33m!=\u001b[0m \u001b[1;34m'liblinear'\u001b[0m \u001b[1;32mand\u001b[0m \u001b[0mdual\u001b[0m\u001b[1;33m:\u001b[0m\u001b[1;33m\u001b[0m\u001b[1;33m\u001b[0m\u001b[0m\n\u001b[0;32m    447\u001b[0m         raise ValueError(\"Solver %s supports only \"\n",
      "\u001b[1;31mValueError\u001b[0m: Solver lbfgs supports only 'l2' or 'none' penalties, got l1 penalty."
     ]
    }
   ],
   "source": [
    "results = list()\n",
    "for variable in independents:\n",
    "    X, y = df.loc[:, variable], df.loc[:, dependent]\n",
    "    clf = LogisticRegression(C=1000000, penalty='l1')\n",
    "    if X.iloc[:, 0].dtype not in [np.float64, np.int64]:\n",
    "        enc = OneHotEncoder()\n",
    "        X = enc.fit_transform(X)\n",
    "        record = mcu.log_clf_model(clf, 'Logistic Regression', X, y, variable)\n",
    "        results.append(record)\n",
    "    else:\n",
    "        for degree in range(1, 4):\n",
    "            if degree == 1:\n",
    "                LogisticRegression(C=1000000, penalty='l1')\n",
    "                record = mcu.log_clf_model(clf, 'Logistic Regression', X, y, variable)\n",
    "                results.append(record)\n",
    "            else:\n",
    "                clf = Pipeline([('poly', PolynomialFeatures(degree)), \n",
    "                                ('clf', LogisticRegression(C=1000000, penalty='l1'))])\n",
    "                record = mcu.log_clf_model(clf, 'Logistic Regression', X, y, variable, degree)\n",
    "                results.append(record)\n",
    "# Let's also add a bias model\n",
    "X = np.ones((df.shape[0], 1))\n",
    "y = df.loc[:, dependent]\n",
    "clf = LogisticRegression(C=1000000, penalty='l1')\n",
    "results.append(mcu.log_clf_model(clf, 'Logistic Regression', X, y, 'bias'))\n",
    "(mcu.results_to_df(results)\n",
    " .pipe(mcu.scores_formatted))"
   ]
  },
  {
   "cell_type": "markdown",
   "metadata": {},
   "source": [
    "We can see that all our models except 2 are guess 100 percent non-default. This is common with imbalanced classes. We are basically dealing with a high-bias problem here. We need to add features to **_reduce bias_** and **_add variance_**."
   ]
  },
  {
   "cell_type": "markdown",
   "metadata": {},
   "source": [
    "<a id=\"log_reg_mult\"></a>\n",
    "## Multiple Features\n",
    "\n",
    "To add some variance, we'll now add models with two or three features, with each numeric dependent variable having polynomial tranformations from 1-3 degrees."
   ]
  },
  {
   "cell_type": "code",
   "execution_count": null,
   "metadata": {},
   "outputs": [],
   "source": [
    "for features_tuple in itertools.combinations(list(mcu.independents.keys()), 2):\n",
    "    features = list(features_tuple)\n",
    "    if mcu.independents[features[0]] == 'dummy' and mcu.independents[features[1]] == 'dummy':\n",
    "        clf = LogisticRegression(C=1000000, penalty='l1')\n",
    "        pipeline = mcu.clf_pipeline(clf, features, degree)\n",
    "        record = mcu.log_clf_model(pipeline, 'Logistic Regression', df, y, features, 1)\n",
    "        results.append(record)\n",
    "    else: \n",
    "        for degree in range(1, 4):\n",
    "            clf = LogisticRegression(C=1000000, penalty='l1')\n",
    "            pipeline = mcu.clf_pipeline(clf, features, degree)\n",
    "            record = mcu.log_clf_model(pipeline, 'Logistic Regression', df, y, features, degree)\n",
    "            results.append(record)\n",
    "for features_tuple in itertools.combinations(list(mcu.independents.keys()), 3):\n",
    "    features = list(features_tuple)\n",
    "    if (    mcu.independents[features[0]] == 'dummy'\n",
    "        and mcu.independents[features[1]] == 'dummy'\n",
    "        and mcu.independents[features[2]] == 'dummy'):\n",
    "        clf = LogisticRegression(C=1000000, penalty='l1')\n",
    "        pipeline = mcu.clf_pipeline(clf, features, degree)\n",
    "        record = mcu.log_clf_model(pipeline, 'Logistic Regression', df, y, features, 1)\n",
    "        results.append(record)\n",
    "    else: \n",
    "        for degree in range(1, 4):\n",
    "            clf = LogisticRegression(C=1000000, penalty='l1')\n",
    "            pipeline = mcu.clf_pipeline(clf, features, degree)\n",
    "            record = mcu.log_clf_model(pipeline, 'Logistic Regression', df, y, features, degree)\n",
    "            results.append(record)\n",
    "(mcu.results_to_df(results)\n",
    " .pipe(scores_formatted)\n",
    " .head(10))k"
   ]
  },
  {
   "cell_type": "code",
   "execution_count": null,
   "metadata": {},
   "outputs": [],
   "source": [
    "list(set(unpack_list(results_to_df(results)\n",
    "         .pipe(scores_formatted)\n",
    "         .head(15)\n",
    "         .features.tolist())))"
   ]
  },
  {
   "cell_type": "markdown",
   "metadata": {},
   "source": [
    "<a id=\"log_reg_viz\"></a>\n",
    "## Visualization of Best Model"
   ]
  },
  {
   "cell_type": "code",
   "execution_count": null,
   "metadata": {},
   "outputs": [],
   "source": [
    "features = ['dti', 'int_rate']\n",
    "dependent = 'default'\n",
    "X, y = df.loc[:, features], df.loc[:, dependent]\n",
    "X_train, X_test, y_train, y_test = train_test_split(X, y, test_size=0.2, random_state=11,\n",
    "                                                    stratify=y)\n",
    "degree = 2\n",
    "clf = mcu.clf_pipeline(LogisticRegression(), features, degree)\n",
    "clf.fit(X_train, y_train)\n",
    "ax = mcu.plot_estimator(clf, X_test,y_test)\n",
    "ax.set(title='Defaulters by DTI and Interest Rate')\n",
    "plt.show()"
   ]
  },
  {
   "cell_type": "markdown",
   "metadata": {},
   "source": [
    "It's not great, but our classifer is definitely telling us people with higher Debt-to-Income Ratios and higher Interest Rates are more likely to default, which makes sense. We can tell from this that the data doesn't provide us with a clean split unfortunately."
   ]
  },
  {
   "cell_type": "markdown",
   "metadata": {},
   "source": [
    "<a id=\"#log_reg_hyperparams\"></a>\n",
    "## Hyperparameter Tuning with Grid Search"
   ]
  },
  {
   "cell_type": "code",
   "execution_count": null,
   "metadata": {},
   "outputs": [],
   "source": [
    "features = ['dti', 'int_rate', 'emp_length', 'home_ownership', 'purpose',\n",
    "            'delinq_2yrs','revol_bal', 'loan_amnt', 'grade', 'term']\n",
    "degree = 2\n",
    "X, y = df.loc[:, features], df.loc[:, dependent]\n",
    "X_train, X_test, y_train, y_test = train_test_split(X, y, test_size=0.2, random_state=11,\n",
    "                                                    stratify=y)\n",
    "pipeline = mcu.clf_pipeline(LogisticRegression(), features, degree)\n",
    "weight_space = np.linspace(0.05, 0.95, 20)\n",
    "class_weights = [{0: x, 1: 1.0-x} for x in weight_space]\n",
    "hyperparameters = dict(clf__class_weight=class_weights)\n",
    "gs = GridSearchCV(pipeline, hyperparameters, scoring='f1', cv=5)\n",
    "gs.fit(X_train, y_train)"
   ]
  },
  {
   "cell_type": "code",
   "execution_count": null,
   "metadata": {},
   "outputs": [],
   "source": [
    "print(\"Best Class Weights:\\n{}\".format(pd.DataFrame(gs.best_params_)))"
   ]
  },
  {
   "cell_type": "code",
   "execution_count": null,
   "metadata": {},
   "outputs": [],
   "source": [
    "print(pd.DataFrame(gs.best_params_).to_html())"
   ]
  },
  {
   "cell_type": "code",
   "execution_count": null,
   "metadata": {},
   "outputs": [],
   "source": [
    "model_desc = 'Logistic Regression with Class Weights'\n",
    "#class_weight = gs.best_params_['clf__class_weight']\n",
    "features = ['dti', 'int_rate', 'emp_length', 'home_ownership', 'purpose',\n",
    "            'delinq_2yrs','revol_bal', 'loan_amnt', 'grade', 'term']\n",
    "class_weight = {0: 0.23947368421052628, 1: 0.7605263157894737}\n",
    "logr = LogisticRegression(class_weight=class_weight)\n",
    "X, y = df.loc[:, features], df.loc[:, dependent]\n",
    "pipeline = clf_pipeline(logr, features, degree)\n",
    "results.append(mcu.log_clf_model(pipeline, model_desc, X, y, features, degree=degree))"
   ]
  },
  {
   "cell_type": "code",
   "execution_count": null,
   "metadata": {},
   "outputs": [],
   "source": [
    "model_desc = 'Logistic Regression with Class Weights'\n",
    "degree = 2\n",
    "features = ['dti', 'int_rate', 'emp_length', 'home_ownership', 'purpose',\n",
    "            'delinq_2yrs','revol_bal', 'loan_amnt', 'grade', 'term', 'installment']\n",
    "class_weight = {0: 0.23947368421052628, 1: 0.7605263157894737}\n",
    "logr = LogisticRegression(class_weight=class_weight)\n",
    "X, y = df.loc[:, features], df.loc[:, dependent]\n",
    "pipeline = clf_pipeline(logr, features, degree)\n",
    "results.append(mcu.log_clf_model(pipeline, model_desc, X, y, features, degree=degree))"
   ]
  },
  {
   "cell_type": "code",
   "execution_count": null,
   "metadata": {},
   "outputs": [],
   "source": [
    "model_desc = 'Logistic Regression with Class Weights'\n",
    "degree = 3\n",
    "features = ['dti', 'int_rate', 'emp_length', 'home_ownership', 'purpose',\n",
    "            'delinq_2yrs','revol_bal', 'loan_amnt', 'grade', 'term', 'installment']\n",
    "class_weight = {0: 0.23947368421052628, 1: 0.7605263157894737}\n",
    "logr = LogisticRegression(class_weight=class_weight)\n",
    "X, y = df.loc[:, features], df.loc[:, dependent]\n",
    "pipeline = clf_pipeline(logr, features, degree)\n",
    "results.append(mcu.log_clf_model(pipeline, model_desc, X, y, features, degree=degree))"
   ]
  },
  {
   "cell_type": "code",
   "execution_count": null,
   "metadata": {},
   "outputs": [],
   "source": [
    "model_desc = 'Logistic Regression with Class Weights'\n",
    "degree = 3\n",
    "features = ['dti', 'int_rate', 'emp_length', 'home_ownership', 'purpose',\n",
    "            'delinq_2yrs','revol_bal', 'loan_amnt', 'grade', 'term', 'installment',\n",
    "            'addr_state']\n",
    "class_weight = {0: 0.23947368421052628, 1: 0.7605263157894737}\n",
    "logr = LogisticRegression(class_weight=class_weight)\n",
    "X, y = df.loc[:, features], df.loc[:, dependent]\n",
    "pipeline = clf_pipeline(logr, features, degree)\n",
    "results.append(mcu.log_clf_model(pipeline, model_desc, X, y, features, degree=degree))"
   ]
  },
  {
   "cell_type": "code",
   "execution_count": null,
   "metadata": {},
   "outputs": [],
   "source": [
    "(results_to_df(results)\n",
    " .pipe(scores_formatted)\n",
    " .head(10))"
   ]
  },
  {
   "cell_type": "markdown",
   "metadata": {},
   "source": [
    "<a id=\"knn\"></a>\n",
    "# K-Nearest Neighbors"
   ]
  },
  {
   "cell_type": "markdown",
   "metadata": {},
   "source": [
    "Next let's try the K-Nearest Neighbors algorithm on the data. We'll pick features by those with the highest correlations."
   ]
  },
  {
   "cell_type": "code",
   "execution_count": null,
   "metadata": {},
   "outputs": [],
   "source": [
    "(df.corr()\n",
    " .loc[:, ['default']]\n",
    " .drop('default', axis=0)\n",
    " .rename(columns={'default': 'correlation'})\n",
    " .assign(correlation_abs=lambda x: x.correlation.abs())\n",
    " .sort_values('correlation_abs', ascending=False)\n",
    " .head(10))"
   ]
  },
  {
   "cell_type": "code",
   "execution_count": null,
   "metadata": {},
   "outputs": [],
   "source": [
    "features, dependent = ['out_prncp', 'int_rate'], ['default']\n",
    "X, y = df.loc[:, features], df.loc[:, dependent]\n",
    "scaler = StandardScaler()\n",
    "X_trans = scaler.fit_transform(X)\n",
    "X_train, X_test, y_train, y_test = train_test_split(X_trans, y, test_size=0.2, random_state=11,\n",
    "                                                    stratify=y)\n",
    "n_neighbors = [2, 4, 8, 16, 32]\n",
    "train_results = list()\n",
    "test_results = list()\n",
    "for neighbors in n_neighbors:\n",
    "    knc = KNeighborsClassifier(n_neighbors=neighbors, n_jobs=-1)\n",
    "    knc.fit(X_train, y_train)\n",
    "    y_train_hat = knc.predict(X_train)\n",
    "    f1_train_score = metrics.f1_score(y_train, y_train_hat)\n",
    "    train_results.append(f1_train_score)\n",
    "    y_test_hat = knc.predict(X_test)\n",
    "    f1_test_score = metrics.f1_score(y_test, y_test_hat)\n",
    "    test_results.append(f1_test_score)"
   ]
  },
  {
   "cell_type": "code",
   "execution_count": null,
   "metadata": {},
   "outputs": [],
   "source": [
    "plt.style.use('ggplot')\n",
    "fig, ax = plt.subplots()\n",
    "ax.plot(n_neighbors, train_results, c='blue', label='Training Set')\n",
    "ax.plot(n_neighbors, test_results, c='red', label='Training Set')\n",
    "ax.set(title='K-Nearest Neighbors\\nDefault by Outstanding Principal and Interest Rate',\n",
    "       xlabel=\"Number of Neighbors\", ylabel=\"F1 Score\")\n",
    "plt.show()"
   ]
  },
  {
   "cell_type": "markdown",
   "metadata": {},
   "source": [
    "Our best KNN is one with 2 neighbors. Let's check out a visual of this for funzies."
   ]
  },
  {
   "cell_type": "markdown",
   "metadata": {},
   "source": [
    "<a id=\"rf\"></a>\n",
    "# Random Forest\n",
    "\n",
    "We did some great work with our logistic regression modeling, but let's see if we can obtain a little more accuracy with a random forest."
   ]
  },
  {
   "cell_type": "code",
   "execution_count": 8,
   "metadata": {},
   "outputs": [
    {
     "data": {
      "text/plain": [
       "{'model_type': 'Random Forest',\n",
       " 'features': ['dti',\n",
       "  'int_rate',\n",
       "  'emp_length',\n",
       "  'home_ownership',\n",
       "  'purpose',\n",
       "  'delinq_2yrs',\n",
       "  'revol_bal',\n",
       "  'loan_amnt',\n",
       "  'grade',\n",
       "  'term',\n",
       "  'installment',\n",
       "  'addr_state'],\n",
       " 'degree': 1,\n",
       " 'train_accuracy': 0.9999952967957069,\n",
       " 'test_accuracy': 0.7811723982240951,\n",
       " 'precision': 0.49533954727030627,\n",
       " 'recall': 0.09611575230384979,\n",
       " 'f1_score': 0.16099249855741488,\n",
       " 'true_negatives': 40408,\n",
       " 'false_positives': 1137,\n",
       " 'false_negatives': 10495,\n",
       " 'true_positives': 1116}"
      ]
     },
     "execution_count": 8,
     "metadata": {},
     "output_type": "execute_result"
    }
   ],
   "source": [
    "%timeit\n",
    "features = ['dti', 'int_rate', 'emp_length', 'home_ownership', 'purpose',\n",
    "            'delinq_2yrs','revol_bal', 'loan_amnt', 'grade', 'term', 'installment', 'addr_state']\n",
    "dependent = 'default'\n",
    "model_name = 'Random Forest'\n",
    "X, y = df.loc[:, features], df.loc[:, dependent]\n",
    "rf = RandomForestClassifier()\n",
    "pipeline = mcu.clf_pipeline(rf, features, 1)\n",
    "mcu.log_clf_model(pipeline, model_name, X, y, features, degree=1)"
   ]
  },
  {
   "cell_type": "code",
   "execution_count": 11,
   "metadata": {},
   "outputs": [
    {
     "data": {
      "text/plain": [
       "id\n",
       "1077501     0\n",
       "1077430     1\n",
       "1077175     0\n",
       "1076863     0\n",
       "1075269     0\n",
       "           ..\n",
       "36743377    1\n",
       "36231718    0\n",
       "36241316    0\n",
       "36421485    0\n",
       "36260758    1\n",
       "Name: default, Length: 265777, dtype: int32"
      ]
     },
     "execution_count": 11,
     "metadata": {},
     "output_type": "execute_result"
    }
   ],
   "source": [
    "df.default"
   ]
  },
  {
   "cell_type": "code",
   "execution_count": 6,
   "metadata": {},
   "outputs": [],
   "source": [
    "row = pd.DataFrame([[16.7, 13.8, '10+ years', 'MORTGAGE', 'car', '0', 15000.0, 13658.0, 'B', '36 months', 420.0, 'CA']],\n",
    "                  columns=features)"
   ]
  },
  {
   "cell_type": "code",
   "execution_count": 7,
   "metadata": {},
   "outputs": [
    {
     "data": {
      "text/plain": [
       "array([0])"
      ]
     },
     "execution_count": 7,
     "metadata": {},
     "output_type": "execute_result"
    }
   ],
   "source": [
    "pipeline.predict(row)"
   ]
  },
  {
   "cell_type": "code",
   "execution_count": 10,
   "metadata": {},
   "outputs": [
    {
     "data": {
      "text/plain": [
       "['clf.joblib']"
      ]
     },
     "execution_count": 10,
     "metadata": {},
     "output_type": "execute_result"
    }
   ],
   "source": [
    "\"\"\"import pickle\n",
    "\n",
    "filename = 'clf.pkl'\n",
    "with open(filename, 'wb') as f:\n",
    "    pickle.dump(pipeline, f)\"\"\"\n",
    "    \n",
    "    \n",
    "from joblib import dump, load\n",
    "dump(pipeline, 'clf.joblib')"
   ]
  },
  {
   "cell_type": "code",
   "execution_count": 13,
   "metadata": {},
   "outputs": [
    {
     "data": {
      "text/plain": [
       "array([[0.73, 0.27]])"
      ]
     },
     "execution_count": 13,
     "metadata": {},
     "output_type": "execute_result"
    }
   ],
   "source": [
    "row = pd.DataFrame([[50, 13.8, '10+ years', 'MORTGAGE', 'car', '0', 15000.0, 13658.0, 'B', '36 months', 420.0, 'CA']],\n",
    "                  columns=features)\n",
    "pipeline.predict_proba(row)"
   ]
  },
  {
   "cell_type": "markdown",
   "metadata": {},
   "source": [
    "### Random Forest Hyperparameter Grid Search"
   ]
  },
  {
   "cell_type": "code",
   "execution_count": null,
   "metadata": {},
   "outputs": [],
   "source": [
    "\"\"\" Parameters \"\"\"\n",
    "features = ['dti', 'int_rate', 'emp_length', 'home_ownership', 'purpose',\n",
    "            'delinq_2yrs','revol_bal', 'loan_amnt', 'grade', 'term', 'installment', 'addr_state']\n",
    "degree = 1\n",
    "X, y = df.loc[:, features], df.loc[:, dependent]\n",
    "\n",
    "\"\"\" Preprocessing \"\"\"\n",
    "X_train, X_test, y_train, y_test = train_test_split(X, y, test_size=0.2, random_state=11,\n",
    "                                                    stratify=y)\n",
    "transformer_list = mcu.feature_transformer_list(features, degree)\n",
    "feats = FeatureUnion(transformer_list=transformer_list)\n",
    "X_train_trans = feats.fit_transform(X_train)\n",
    "rf = RandomForestClassifier()\n",
    "rf.fit(X_train_trans, y_train)\n",
    "\n",
    "\"\"\" Grid Search Hyperparameters \"\"\"\n",
    "# Number of trees in random forest\n",
    "n_estimators = [200, 500, 1000]\n",
    "# Number of features to consider at every split\n",
    "max_features = ['auto', 'sqrt']\n",
    "# Maximum number of levels in tree\n",
    "max_depth = [None, 10, 110]\n",
    "# Minimum number of samples required to split a node\n",
    "min_samples_split = [2**r for r in range(1, 3)]\n",
    "# Minimum number of samples required at each leaf node\n",
    "min_samples_leaf = [2**r for r in range(0, 2)]\n",
    "\n",
    "\"\"\" Grid Search \"\"\"\n",
    "hyperparameters = {'n_estimators': n_estimators,\n",
    "                   'max_features': max_features,\n",
    "                   'max_depth': max_depth,\n",
    "                   'min_samples_split': min_samples_split,\n",
    "                   'min_samples_leaf': min_samples_leaf,\n",
    "                   'bootstrap': bootstrap}\n",
    "gs = GridSearchCV(rf, hyperparameters, scoring='f1', cv=5)"
   ]
  }
 ],
 "metadata": {
  "kernelspec": {
   "display_name": "Python 3",
   "language": "python",
   "name": "python3"
  },
  "language_info": {
   "codemirror_mode": {
    "name": "ipython",
    "version": 3
   },
   "file_extension": ".py",
   "mimetype": "text/x-python",
   "name": "python",
   "nbconvert_exporter": "python",
   "pygments_lexer": "ipython3",
   "version": "3.7.7"
  }
 },
 "nbformat": 4,
 "nbformat_minor": 2
}
