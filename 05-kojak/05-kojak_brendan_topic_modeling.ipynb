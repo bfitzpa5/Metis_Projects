{
 "cells": [
  {
   "cell_type": "code",
   "execution_count": 86,
   "metadata": {},
   "outputs": [],
   "source": [
    "# general\n",
    "import pandas as pd\n",
    "import numpy as np\n",
    "import os\n",
    "import re\n",
    "import csv\n",
    "from collections import defaultdict\n",
    "import pprint\n",
    "\n",
    "# visualizations\n",
    "import matplotlib.pyplot as plt\n",
    "\n",
    "# NLP\n",
    "import nltk\n",
    "from nltk.corpus import stopwords\n",
    "from textblob import TextBlob\n",
    "\n",
    "# modeling\n",
    "from sklearn.feature_extraction.text import TfidfVectorizer, CountVectorizer\n",
    "from sklearn.decomposition import NMF, LatentDirichletAllocation, PCA\n",
    "from sklearn.manifold import TSNE\n",
    "from sklearn.preprocessing import normalize\n",
    "from sklearn.metrics.pairwise import cosine_similarity\n",
    "%matplotlib inline"
   ]
  },
  {
   "cell_type": "code",
   "execution_count": 3,
   "metadata": {
    "collapsed": true
   },
   "outputs": [],
   "source": [
    "# define houses\n",
    "houses = ['gryffindor', 'ravenclaw', 'hufflepuff', 'slytherin']\n",
    "primary_colors = ['#ae0001','#222f5b','#ecb939','#2a623d']\n",
    "secondary_colors = ['#eeba30','#5d5d5d','#726255','#aaaaaa']"
   ]
  },
  {
   "cell_type": "code",
   "execution_count": 4,
   "metadata": {
    "collapsed": true
   },
   "outputs": [],
   "source": [
    "\"\"\" \n",
    "    make a dataframe that contains the chapters, textblobs of the chapters,\n",
    "    houses, frequency per chapter and polarity per chapter\n",
    "\"\"\"\n",
    "files_dir = '/home/brendanfitzpatrick/Metis/projects/05-kojak/.gitignore/files/books/'\n",
    "column_names = ['chapter','text','book_name','book_number']\n",
    "df = pd.DataFrame(columns = column_names)\n",
    "\n",
    "# import fanastic beasts and add to dataframe\n",
    "fantasticbeasts = '/home/brendanfitzpatrick/Metis/projects/05-kojak/.gitignore/files/superseded/fantasticbeast.txt'\n",
    "fantastic_beasts_text = []\n",
    "with open(fantasticbeasts) as f:\n",
    "    scene = ''\n",
    "    for line in f:\n",
    "        if re.match(\"SCENE [\\d]+\", line):\n",
    "            fantastic_beasts_text+=[scene]\n",
    "            scene = ''\n",
    "        else:\n",
    "            scene+=line.replace(\"\\n\",\" \")\n",
    "    fantastic_beasts_text = fantastic_beasts_text[1:124]+[scene]\n",
    "df_fanastic_beasts = pd.DataFrame(\n",
    "    {\n",
    "        'chapter': [x for x in range(1,125)],\n",
    "        'text': fantastic_beasts_text,\n",
    "        'book_name': ['Fantastic Beasts']*124,\n",
    "        'book_number': [8]*124,\n",
    "    }\n",
    ")\n",
    "df = pd.concat([df_fanastic_beasts, df])\n",
    "\n",
    "# textblob, house counts and polarity\n",
    "for filename in sorted(os.listdir(files_dir)):\n",
    "    temp = pd.read_csv(files_dir+filename,header=None,names=['chapter','text'])\n",
    "    temp['book_name'] = str(filename[2:-4])\n",
    "    temp['book_number'] = int(filename[0:1])\n",
    "    df = pd.concat([df, temp])\n",
    "df = df[df.chapter.isnull()==False]\n",
    "df['textblob'] = df.text.apply(lambda x: TextBlob(x))\n",
    "df['house_counts_GRHS'] = df.textblob.apply(lambda x: [x.words.count(y) for y in houses])\n",
    "df['chapter_polarity'] = df.textblob.apply(lambda x: x.sentiment.polarity)\n",
    "df.sort_values(['book_number','chapter'],ascending=True,inplace=True)\n",
    "df.reset_index(drop=True,inplace=True)"
   ]
  },
  {
   "cell_type": "code",
   "execution_count": 5,
   "metadata": {},
   "outputs": [
    {
     "name": "stdout",
     "output_type": "stream",
     "text": [
      "\n",
      "\n"
     ]
    }
   ],
   "source": [
    "documents = list(df.text)\n",
    "print('\\n')"
   ]
  },
  {
   "cell_type": "code",
   "execution_count": 6,
   "metadata": {
    "collapsed": true
   },
   "outputs": [],
   "source": [
    "# display topics functions:\n",
    "def display_topics(model, feature_names, no_top_words):\n",
    "    for topic_idx, topic in enumerate(model.components_):\n",
    "        print(\"Topic {}:\".format(topic_idx))\n",
    "        print(\" \".join([feature_names[i]\n",
    "                        for i in topic.argsort()[:-no_top_words - 1:-1]]))"
   ]
  },
  {
   "cell_type": "code",
   "execution_count": 7,
   "metadata": {
    "collapsed": true
   },
   "outputs": [],
   "source": [
    "tfidf_vectorizer = TfidfVectorizer(max_df=0.95, min_df=2, stop_words='english')\n",
    "tfidf = tfidf_vectorizer.fit_transform(documents)\n",
    "tfidf_feature_names = tfidf_vectorizer.get_feature_names()\n",
    "\n",
    "# LDA can only use raw term counts for LDA because it is a probabilistic graphical maodel\n",
    "tf_vectorizer = CountVectorizer(max_df=0.95, min_df=2, stop_words='english')\n",
    "tf = tf_vectorizer.fit_transform(documents)\n",
    "tf_feature_names = tf_vectorizer.get_feature_names()"
   ]
  },
  {
   "cell_type": "code",
   "execution_count": 8,
   "metadata": {
    "collapsed": true
   },
   "outputs": [],
   "source": [
    "no_topics = 20\n",
    "# Run NMF\n",
    "nmf = NMF(n_components=no_topics, random_state=1, alpha=.1, l1_ratio=.5, init='nndsvd').fit(tfidf)\n",
    "\n",
    "# Run LDA\n",
    "lda = LatentDirichletAllocation(n_topics=no_topics, max_iter=5, learning_method='online', learning_offset=50.,random_state=0).fit(tf)"
   ]
  },
  {
   "cell_type": "code",
   "execution_count": 9,
   "metadata": {},
   "outputs": [
    {
     "name": "stdout",
     "output_type": "stream",
     "text": [
      "NMF Topics: \n",
      "Topic 0:\n",
      "harry said ron hermione looked know ve just like got malfoy professor did don ll looking think time right dumbledore\n",
      "Topic 1:\n",
      "newt niffler jacob angle obscurus pickett demiguise bank case tina moves gnarlak customs watches looks occamy erumpent park scamander swooping\n",
      "Topic 2:\n",
      "graves credence obscurus subway child moves tunnel begins face tracks mass night continues alleyway modesty stands stares aurors int train\n",
      "Topic 3:\n",
      "vernon dudley uncle harry petunia aunt dursleys marge letter dursley car kitchen figg house birthday room living owl piers drive\n",
      "Topic 4:\n",
      "jacob bingley newt case int bank kowalski occamy room egg looks bakery mr enters grabs day hey collateral factory canning\n",
      "Topic 5:\n",
      "dumbledore harry voldemort said did riddle death fudge sirius wand lord yes tom slughorn albus grindelwald prophecy kreacher know man\n",
      "Topic 6:\n",
      "church modesty lou mary salem credence chastity leaflets int momma second stands sits children night stairs belt glances bags ext\n",
      "Topic 7:\n",
      "weasley said mrs mr fred george sirius percy arthur ginny crouch charlie kitchen ministry molly diggory tonks got mum amos\n",
      "Topic 8:\n",
      "queenie jacob abernathy int corridor lobby residence goldstein office angle reads macusa storms hey graves honey tina guy cocoa pickett\n",
      "Topic 9:\n",
      "shaw langdon sr senator subway barker ext captivated announcer field entrance breaks flee surrounding people crowds scene night drunk photographers\n",
      "Topic 10:\n",
      "hagrid yeh ter said fer yer em fang norbert jus tha bin dragon forest abou giants cabin giant trelawney righ\n",
      "Topic 11:\n",
      "snape lord narcissa lily severus bellatrix james sirius dark potter yaxley petunia voldemort lucius sister draco face office malfoy foam\n",
      "Topic 12:\n",
      "tenement street ext bronx realizes approaches buildings building throws east crowd overcast marches afternoon cut continually disappeared night shops glances\n",
      "Topic 13:\n",
      "picquery madam aurors president graves major subway york investigation war areas scamander macusa exposure int metallic grindelwald exposed magical activity\n",
      "Topic 14:\n",
      "tina newt executioner goldstein pool scamander graves int cell ext woolworth building swooping elevator mrs residence don maj macusa raises\n",
      "Topic 15:\n",
      "lupin pettigrew black peter scabbers sirius crookshanks james expecto professor werewolf patronum remus said rat dementor snape boggart tonks dementors\n",
      "Topic 16:\n",
      "xenophilius hallows lovegood hermione luna death deathly elder ron wand brother printing brothers cloak press peverell said stone beedle tray\n",
      "Topic 17:\n",
      "dobby sir winky harry elf potter bludger crouch krum elves bagman mr mason said flying foe focusing focused foolproof focus\n",
      "Topic 18:\n",
      "york aerial new ext shot day environment alien rhythm thunderbird clutches quality shows curiosity street directions woolworth streets rests rain\n",
      "Topic 19:\n",
      "umbridge professor said hermione mcgonagall trelawney class sirius defence clipboard grubbly plank cho marietta george centaurs fred just firenze centaur\n",
      "LDA Topics: \n",
      "Topic 0:\n",
      "harry said ron hermione like did just ve dumbledore right ll looked know professor room don going look hagrid head\n",
      "Topic 1:\n",
      "harry said hermione ron just don got ve looked looking know umbridge weasley did like going think hagrid come didn\n",
      "Topic 2:\n",
      "said harry hermione ron hagrid dumbledore just like customs looking professor ve looked right weasley going know don think voice\n",
      "Topic 3:\n",
      "harry said ron hermione time know like going looking professor right did think looked malfoy got just saw black come\n",
      "Topic 4:\n",
      "harry said ron hermione dumbledore know like just looked did ve got don hagrid professor snape ll looking think wand\n",
      "Topic 5:\n",
      "harry said ron hermione just looked hagrid don ve professor got ll looking like fred didn weasley dumbledore look think\n",
      "Topic 6:\n",
      "harry said ron hermione ve looked just know got like bingley snape professor hagrid dumbledore weasley sirius malfoy going looking\n",
      "Topic 7:\n",
      "harry said ron mr just didn hermione dudley uncle know vernon weasley dumbledore don ve like professor looked looking ll\n",
      "Topic 8:\n",
      "said harry ron hermione dumbledore like ve just know voice professor malfoy going face ll look got snape think come\n",
      "Topic 9:\n",
      "harry said ron snape hermione know dumbledore ll professor face got like just time looking told wand did don looked\n",
      "Topic 10:\n",
      "harry said ron hermione hagrid know ve looked like time just gnarlak don got did newt jacob didn right eyes\n",
      "Topic 11:\n",
      "said harry ron dumbledore ve hermione sirius hagrid looking looked didn professor like think just snape know got going ll\n",
      "Topic 12:\n",
      "said harry ron hermione professor looking like ve don know snape just did looked got weasley dumbledore head umbridge time\n",
      "Topic 13:\n",
      "shaw said harry ron langdon sr senator momma professor hermione modesty just dumbledore hagrid snape know subway mary lou looked\n",
      "Topic 14:\n",
      "said harry ron hermione got ve looked know sirius did hagrid professor come don weasley snape look like just looking\n",
      "Topic 15:\n",
      "harry said ron hermione like professor ve dumbledore eyes don hagrid just looking looked know look right time malfoy didn\n",
      "Topic 16:\n",
      "said harry ron hermione professor dumbledore looked hagrid like did snape know don ve didn eyes just look think looking\n",
      "Topic 17:\n",
      "harry said ron hermione hagrid just looked right sirius ve don professor going weasley got dobby look dumbledore know ll\n",
      "Topic 18:\n",
      "said harry ron hermione just hagrid ll got dumbledore know did weasley like think professor looking looked time ve thought\n",
      "Topic 19:\n",
      "harry said ron hermione weasley professor like mr just looked got dumbledore know looking snape don right ll wand ve\n"
     ]
    }
   ],
   "source": [
    "no_top_words = 20\n",
    "print('NMF Topics: ')\n",
    "display_topics(nmf, tfidf_feature_names, no_top_words)\n",
    "print('LDA Topics: ')\n",
    "display_topics(lda, tf_feature_names, no_top_words)"
   ]
  },
  {
   "cell_type": "code",
   "execution_count": 56,
   "metadata": {
    "collapsed": true
   },
   "outputs": [],
   "source": [
    "test_hermione = ['Minister Hermione Jean Granger was a Muggle-born witch born to Mr and Mrs Granger, both dentists. Hermione was raised as a Muggle girl until, at age eleven, when she learned that she was a witch and had been accepted into Hogwarts School of Witchcraft and Wizardry. She began attending the school on 1 September, 1991, where she was subsequently sorted into Gryffindor House, despite being considered for Ravenclaw. She possessed a brilliant academic mind, and proved to be a gifted student in almost every subject that she studied. She was very studious and bookish']"
   ]
  },
  {
   "cell_type": "code",
   "execution_count": 75,
   "metadata": {},
   "outputs": [
    {
     "data": {
      "text/plain": [
       "['Minister Hermione Jean Granger was a Muggle-born witch born to Mr and Mrs Granger, both dentists. Hermione was raised as a Muggle girl until, at age eleven, when she learned that she was a witch and had been accepted into Hogwarts School of Witchcraft and Wizardry. She began attending the school on 1 September, 1991, where she was subsequently sorted into Gryffindor House, despite being considered for Ravenclaw. She possessed a brilliant academic mind, and proved to be a gifted student in almost every subject that she studied. She was very studious and bookish']"
      ]
     },
     "execution_count": 75,
     "metadata": {},
     "output_type": "execute_result"
    }
   ],
   "source": [
    "test_hermione"
   ]
  },
  {
   "cell_type": "code",
   "execution_count": 51,
   "metadata": {
    "collapsed": true
   },
   "outputs": [],
   "source": [
    "test_hermione = tf_vectorizer.transform(test_hermione)"
   ]
  },
  {
   "cell_type": "code",
   "execution_count": 52,
   "metadata": {
    "collapsed": true
   },
   "outputs": [],
   "source": [
    "test_hermione=nmf.transform(test_hermione)"
   ]
  },
  {
   "cell_type": "code",
   "execution_count": 53,
   "metadata": {},
   "outputs": [
    {
     "name": "stdout",
     "output_type": "stream",
     "text": [
      "[[ 0.2166643   0.          0.          0.          0.          0.\n",
      "   0.00213997  0.43863143  0.          0.          0.          0.          0.\n",
      "   0.          0.          0.          0.28088187  0.          0.          0.        ]]\n"
     ]
    }
   ],
   "source": [
    "print(test_hermione)"
   ]
  },
  {
   "cell_type": "code",
   "execution_count": 15,
   "metadata": {},
   "outputs": [
    {
     "data": {
      "text/plain": [
       "(20, 14335)"
      ]
     },
     "execution_count": 15,
     "metadata": {},
     "output_type": "execute_result"
    }
   ],
   "source": [
    "nmf.components_.shape"
   ]
  },
  {
   "cell_type": "code",
   "execution_count": 18,
   "metadata": {
    "collapsed": true
   },
   "outputs": [],
   "source": [
    "model_houses = ['GRYFFINDOR',\n",
    "'HUFFLEPUFF',\n",
    "'SLYTHERIN',\n",
    "'MUGGLE',\n",
    "'UNDETERMINED',\n",
    "'GRYFFINDOR / SLYTHERIN',\n",
    "'SLYTHERIN',\n",
    "'GRYFFINDOR / RAVENCLAW',\n",
    "'UNDETERMINED',\n",
    "'MUGGLE',\n",
    "'GRYFFINDOR',\n",
    "'SLYTHERIN',\n",
    "'UNDETERMINED',\n",
    "'UNDETERMINED',\n",
    "'UNDETERMINED',\n",
    "'GRYFFINDOR / SLYTHERIN',\n",
    "'RAVENCLAW',\n",
    "'GRYFFINDOR',\n",
    "'UNDETERMINED',\n",
    "'RAVENCLAW / SLYTHERIN']"
   ]
  },
  {
   "cell_type": "code",
   "execution_count": 35,
   "metadata": {},
   "outputs": [
    {
     "name": "stdout",
     "output_type": "stream",
     "text": [
      "RAVENCLAW SLYTHERIN\n"
     ]
    }
   ],
   "source": [
    "model_houses[-1].find(' ')\n",
    "house1, blackslash, house2 = model_houses[-1].split(' ')\n",
    "print(house1, house2)"
   ]
  },
  {
   "cell_type": "code",
   "execution_count": 92,
   "metadata": {
    "collapsed": true
   },
   "outputs": [],
   "source": [
    "def find_score(bio):\n",
    "    scores = tf_vectorizer.transform(bio)\n",
    "    scores = nmf.transform(scores)[0]\n",
    "    house_scores = defaultdict(int)\n",
    "    for i in range(len(scores)):\n",
    "        if model_houses[i].find(' ')!=-1:\n",
    "            house1, blackslash, house2 = model_houses[i].split(' ')\n",
    "            house_scores[house1] += .5*scores[i]\n",
    "            house_scores[house1] += .5*scores[i]\n",
    "        else:\n",
    "            house_scores[model_houses[i]] += scores[i]\n",
    "    pp = pprint.PrettyPrinter(indent=4)\n",
    "    pp.pprint(dict(house_scores))\n",
    "    return max(house_scores, key=house_scores.get)"
   ]
  },
  {
   "cell_type": "code",
   "execution_count": 93,
   "metadata": {
    "collapsed": true
   },
   "outputs": [],
   "source": [
    "hermione_wiki = ['Minister Hermione Jean Granger was a Muggle-born witch born to Mr and Mrs Granger, both dentists.'+\n",
    "                 'Hermione was raised as a Muggle girl until, at age eleven, when she learned that she was a witch and '+\n",
    "                 'had been accepted into Hogwarts School of Witchcraft and Wizardry. She began attending the school on 1 September,'+\n",
    "                 ' 1991, where she was subsequently sorted into Gryffindor House, despite being considered for Ravenclaw. '+\n",
    "                 'She possessed a brilliant academic mind, and proved to be a gifted student in almost every subject that she '+\n",
    "                 'studied. She was very studious and bookish']"
   ]
  },
  {
   "cell_type": "code",
   "execution_count": 94,
   "metadata": {},
   "outputs": [
    {
     "name": "stdout",
     "output_type": "stream",
     "text": [
      "{   'GRYFFINDOR': 0.65529573521546636,\n",
      "    'HUFFLEPUFF': 0.0,\n",
      "    'MUGGLE': 0.0,\n",
      "    'RAVENCLAW': 0.2808818721699165,\n",
      "    'SLYTHERIN': 0.0021399749341124213,\n",
      "    'UNDETERMINED': 0.0}\n"
     ]
    },
    {
     "data": {
      "text/plain": [
       "'GRYFFINDOR'"
      ]
     },
     "execution_count": 94,
     "metadata": {},
     "output_type": "execute_result"
    }
   ],
   "source": [
    "find_score(hermione_wiki)"
   ]
  },
  {
   "cell_type": "code",
   "execution_count": 95,
   "metadata": {
    "collapsed": true
   },
   "outputs": [],
   "source": [
    "malfoy_wiki = ['Draco Lucius Malfoy was a pure-blood wizard and the only son of Lucius and Narcissa Malfoy '+\n",
    "               '(née Black). The son of a Death Eater, Draco was raised to believe strongly in the importance '+\n",
    "               'of blood purity. He attended Hogwarts School of Witchcraft and Wizardry from 1991-1998 and was '+\n",
    "               'sorted into Slytherin House. During his years at Hogwarts, he became friends with Vincent Crabbe, '+\n",
    "               'Gregory Goyle, Pansy Parkinson, and other fellow Slytherins, but he quickly developed a rivalry '+\n",
    "               'with Harry Potter. He was made a prefect of his house and was a member of the Inquisitorial Squad'+\n",
    "               ' during his fifth year, at the end of which his father was imprisoned in Azkaban following the '+\n",
    "               'Battle of the Department of Mysteries. Lord Voldemort charged Draco with making up for Lucius\\'s'+\n",
    "               ' failure, and he became a Death Eater at age sixteen, but was quickly disillusioned with the '+\n",
    "               'lifestyle. Draco was unable to complete his task — murdering Albus Dumbledore, which was taken '+\n",
    "               'over by Severus Snape — and only performed his other duties fearfully and reluctantly. He and his '+\n",
    "               'family defected hours before the end of the Second Wizarding War in order to avoid imprisonment '+\n",
    "               'in Azkaban following Voldemort\\'s defeat. By 2017, Draco had married Astoria Greengrass and '+\n",
    "               'had one child, Scorpius Hyperion Malfoy.']"
   ]
  },
  {
   "cell_type": "code",
   "execution_count": 96,
   "metadata": {},
   "outputs": [
    {
     "name": "stdout",
     "output_type": "stream",
     "text": [
      "{   'GRYFFINDOR': 1.5752482502785261,\n",
      "    'HUFFLEPUFF': 0.0,\n",
      "    'MUGGLE': 0.0071466730865528093,\n",
      "    'RAVENCLAW': 0.032161392116326716,\n",
      "    'SLYTHERIN': 1.039554026312238,\n",
      "    'UNDETERMINED': 0.026133179366236062}\n"
     ]
    },
    {
     "data": {
      "text/plain": [
       "'GRYFFINDOR'"
      ]
     },
     "execution_count": 96,
     "metadata": {},
     "output_type": "execute_result"
    }
   ],
   "source": [
    "find_score(malfoy_wiki)"
   ]
  },
  {
   "cell_type": "code",
   "execution_count": 97,
   "metadata": {
    "collapsed": true
   },
   "outputs": [],
   "source": [
    "kanye_wiki = ['Kanye Omari West is an American rapper, singer, songwriter, record producer, fashion designer, '+\n",
    "               'and entrepreneur. Born in Atlanta and raised in Chicago, West briefly attended art school before '+\n",
    "               'becoming known as a producer for Roc-A-Fella Records in the early 2000s, producing hit singles '+\n",
    "               'for artists such as Jay-Z and Alicia Keys. Intent on pursuing a solo career as a rapper, West '+\n",
    "               'released his debut album The College Dropout in 2004 to widespread critical and commercial success,'+\n",
    "               ' and founded the record label GOOD Music. He went on to pursue a variety of styles on subsequent'+\n",
    "               ' albums Late Registration (2005), Graduation (2007), and 808s & Heartbreak (2008). In 2010, he '+\n",
    "               'released his fifth album My Beautiful Dark Twisted Fantasy to rave reviews from critics, and '+\n",
    "               'the following year he released the collaborative album Watch the Throne with Jay-Z. West'+\n",
    "               ' released his abrasive sixth album, Yeezus, to further critical praise in 2013. His seventh album,'+\n",
    "               ' The Life of Pablo, was released in 2016.']"
   ]
  },
  {
   "cell_type": "code",
   "execution_count": 98,
   "metadata": {},
   "outputs": [
    {
     "name": "stdout",
     "output_type": "stream",
     "text": [
      "{   'GRYFFINDOR': 0.079559523500513624,\n",
      "    'HUFFLEPUFF': 0.0,\n",
      "    'MUGGLE': 0.0,\n",
      "    'RAVENCLAW': 0.0,\n",
      "    'SLYTHERIN': 0.013292260671051909,\n",
      "    'UNDETERMINED': 0.0}\n"
     ]
    },
    {
     "data": {
      "text/plain": [
       "'GRYFFINDOR'"
      ]
     },
     "execution_count": 98,
     "metadata": {},
     "output_type": "execute_result"
    }
   ],
   "source": [
    "find_score(kanye_wiki)"
   ]
  }
 ],
 "metadata": {
  "kernelspec": {
   "display_name": "Python 3",
   "language": "python",
   "name": "python3"
  },
  "language_info": {
   "codemirror_mode": {
    "name": "ipython",
    "version": 3
   },
   "file_extension": ".py",
   "mimetype": "text/x-python",
   "name": "python",
   "nbconvert_exporter": "python",
   "pygments_lexer": "ipython3",
   "version": "3.6.1"
  }
 },
 "nbformat": 4,
 "nbformat_minor": 2
}
